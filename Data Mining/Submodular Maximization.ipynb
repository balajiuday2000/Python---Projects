{
 "cells": [
  {
   "cell_type": "markdown",
   "metadata": {
    "id": "dX6hIxhG53tC"
   },
   "source": [
    "## 1. Theory component \n",
    "\n",
    "\n",
    "Consider an undirected, unweighted graph $G=(V,E)$. \n",
    "For a node $u\\in V$ we define the neighbors of $u$ to be all the neighbors of $u$ in $G$ and we denote it by \n",
    "$N(u)$. That is,\n",
    "\n",
    "$$\n",
    "N(u) = \\{v\\in V \\mid (u,v)\\in E\\}.\n",
    "$$\n",
    "\n",
    "Now consider the neighborhood function of a set of nodes\n",
    "$S\\subseteq V$ defined as follows:\n",
    "\n",
    "$$\n",
    "\\mathcal{N}(S) = \\left|\\cup_{v\\in S} N(v) \\right|.\n",
    "$$\n"
   ]
  },
  {
   "cell_type": "markdown",
   "metadata": {
    "id": "tDX1q9q0mTze"
   },
   "source": [
    "## 1.1 \n",
    "\n",
    "Show that function $\\mathcal{N}(S)$ is monotone.\n"
   ]
  },
  {
   "cell_type": "markdown",
   "metadata": {
    "id": "aSBmL-SwGx1O"
   },
   "source": [
    "**Proof:** <br>\n",
    "\n",
    "$N(S)$ is monotone, if for all $A \\subseteq B$, $N(A) \\le N(B)$.\n",
    "\n",
    "Since $A \\subseteq B$, $B$ has the same vertices as $A$ along with some extra vertices. The common vertices contribute the same value to $N(A)$ and $N(B)$. <br>\n",
    "\n",
    "If the extra vertices in B do not have any distinct neighbours, they do not contribute to $N(B)$ and, $N(A) = N(B)$. <br>\n",
    "\n",
    "If the extra vertices have distinct neighbours then they contribute to $N(B)$ and, $N(A) < N(B)$.<br>\n",
    "\n",
    "So, $N(A) \\le N(B)$ and hence $N(S)$ is monotone.\n",
    "\n"
   ]
  },
  {
   "cell_type": "markdown",
   "metadata": {
    "id": "T0saPFEOmTze"
   },
   "source": [
    "## 1.2 \n",
    "\n",
    "\n",
    "Show that function $\\mathcal{N}(S)$ is submodular."
   ]
  },
  {
   "cell_type": "markdown",
   "metadata": {
    "id": "sezirElmmTzf"
   },
   "source": [
    "**Proof :** <br>\n",
    "\n",
    "$N(S)$ is submodular if and only if for every $A \\subseteq B \\subseteq V$ , for every $i \\in V$ \\ $B: N_A(i) \\geq N_B(i)$ where $N_A(i)$ and $N_B(i)$ are marginal gains. <br>\n",
    "\n",
    "When a vertex $i \\in V$ \\ $B$ is added to $A$ and $B$, there are four possibilities for $N_A(i)$ and $N_B(i):$ <br>\n",
    "\n",
    "1. The neighbours of $i$ are completely disjoint with the neighbours of the vertices in $A$ and $B$. In that case, $A$ and $B$ have equal marginal gain (i.e.) $N_A(i)=N_B(i)$.\n",
    "2. The neighbours of $i$ overlap with the neighbours of the vertices in $A$ and $B$. In that case, $A$ and $B$ have equal marginal gain (i.e.) $N_A(i)=N_B(i)$.\n",
    "3. The neighbours of $i$ overlap with the neighbours of the vertices in $B$ but are disjoint with the neighbours of the vertices in $A$. In that case, $A$ will have greater marginal gain since the increase in the number of distinct vertices covered is more for A  (i.e.) $N_A(i)>N_B(i)$.\n",
    "4. The neighbours of $i$ overlap with the neighbours of the vertices in $A$ but are disjoint with the neighbours of the vertices in $B$.This is not possible since $A \\subseteq B$.\n",
    "\n",
    "So, $N_A(i) \\geq N_B(i)$ and hence $N(S)$ is submodular.\n",
    "\n",
    "\n",
    "\n"
   ]
  },
  {
   "cell_type": "markdown",
   "metadata": {
    "id": "5ja1QDi4mTzf"
   },
   "source": [
    "## 2. Implementation\n",
    "\n",
    "\n",
    "This part of the homework will enable you to test and understand optimization of monotone submodular functions.  \n",
    "\n",
    "You will have to implement the greedy algorithm we discussed in class in order to solve the following problem:  Given a weighted undirected graph $G=(V,E)$ find $S\\subseteq V$ such that $|S|\\leq k$ and \n",
    "$\\mathcal{N}(S)$ is maximized.\n",
    "\n",
    "For the experiments in this part you are going to use the graph available here (LastFM Asia network): \n",
    "https://snap.stanford.edu/data/feather-lastfm-social.html\n",
    "\n"
   ]
  },
  {
   "cell_type": "markdown",
   "metadata": {
    "id": "dt5lqzmpmTzg"
   },
   "source": [
    "### 2.1 Implement the greedy algorithm\n",
    "\n",
    "Implement the greedy algorithm we discussed in class in order to solve the above problem."
   ]
  },
  {
   "cell_type": "code",
   "execution_count": 1,
   "metadata": {
    "id": "787DrB2yIJRj"
   },
   "outputs": [],
   "source": [
    "import networkx as nx\n",
    "import pandas as pd\n",
    "import copy\n",
    "from operator import itemgetter\n",
    "import matplotlib.pyplot as plt\n",
    "from heapq import heappop, heappush, heapify\n",
    "import time"
   ]
  },
  {
   "cell_type": "code",
   "execution_count": 2,
   "metadata": {
    "id": "YQYnaa0fmTzg"
   },
   "outputs": [],
   "source": [
    "df = pd.read_csv('lastfm_asia_edges.csv')\n",
    "Graphtype = nx.Graph()\n",
    "G = nx.from_pandas_edgelist(df, source = 'node_1', target = 'node_2', edge_attr = None, create_using=Graphtype)"
   ]
  },
  {
   "cell_type": "code",
   "execution_count": 3,
   "metadata": {
    "id": "umpJ95UOrnHj"
   },
   "outputs": [],
   "source": [
    "def greedy_algorithm(G, k):\n",
    "    S = set()\n",
    "    A = G.copy()\n",
    "    \n",
    "    for iterations in range(k):\n",
    "        \n",
    "        # Calculate F(S)\n",
    "        F_S = 0\n",
    "        visited_neighbours = []\n",
    "        for node in S:\n",
    "            for neighbour in G.neighbors(node):\n",
    "                if neighbour not in visited_neighbours:\n",
    "                    visited_neighbours.append(neighbour)\n",
    "                    F_S += 1\n",
    "                    \n",
    "        max_marginal_gain = -1\n",
    "        selected_node = -1\n",
    "        \n",
    "        # Find F_S_e for all nodes currently remaining\n",
    "        for remaining_node in A.nodes:\n",
    "            S.add(remaining_node) # Add node to S\n",
    "            F_S_e = 0\n",
    "            visited_neighbours = []\n",
    "            for node in S:\n",
    "                for neighbour in G.neighbors(node):\n",
    "                    if neighbour not in visited_neighbours:\n",
    "                        visited_neighbours.append(neighbour)\n",
    "                        F_S_e += 1\n",
    "                        \n",
    "            # Calculate marginal gain\n",
    "            marginal_gain = F_S_e - F_S\n",
    "            \n",
    "            if marginal_gain > max_marginal_gain:\n",
    "                max_marginal_gain = marginal_gain\n",
    "                selected_node = remaining_node\n",
    "                \n",
    "            S.discard(remaining_node) # Remove node from S\n",
    "            \n",
    "        # Add selected node to S\n",
    "        S.add(selected_node)\n",
    "        A.remove_node(selected_node)\n",
    "        \n",
    "    return S"
   ]
  },
  {
   "cell_type": "markdown",
   "metadata": {
    "id": "_yYa55udmTzh"
   },
   "source": [
    "### 2.2 Compare greedy with the \"degree\" algorithm \n",
    "\n",
    "In this part of the exercise you will compare the results of greedy with the result you would get if you had run an algorithm that sorts the nodes based on their degrees and picks the top-$k$ nodes with the largest degrees. Plot the value of the objective function acheeved by greedy and such a degree-based algorithm as a function of $k$."
   ]
  },
  {
   "cell_type": "code",
   "execution_count": 4,
   "metadata": {
    "id": "ic-wFcVUmTzi"
   },
   "outputs": [],
   "source": [
    "def degree_algorithm(G, k):\n",
    "    S = set()\n",
    "    top_k = sorted(G.degree, key=lambda x: x[1], reverse=True)[:k]\n",
    "    for element in top_k:\n",
    "        S.add(element[0])\n",
    "    return S"
   ]
  },
  {
   "cell_type": "code",
   "execution_count": 5,
   "metadata": {
    "id": "z1d0huxazZId"
   },
   "outputs": [],
   "source": [
    "# Calculate objective\n",
    "def N_S(G, S):  \n",
    "    N_S = 0\n",
    "    visited_neighbours = []\n",
    "    for node in S:\n",
    "        for neighbour in G.neighbors(node):\n",
    "            if neighbour not in visited_neighbours:\n",
    "                visited_neighbours.append(neighbour)\n",
    "                N_S += 1\n",
    "    return N_S"
   ]
  },
  {
   "cell_type": "code",
   "execution_count": 6,
   "metadata": {
    "colab": {
     "base_uri": "https://localhost:8080/",
     "height": 281
    },
    "id": "sZZY_eAYHpOZ",
    "outputId": "da12fab7-6a03-409b-d280-fd82467a07f9"
   },
   "outputs": [
    {
     "data": {
      "image/png": "[encoded data removed]",
      "text/plain": [
       "<Figure size 432x288 with 1 Axes>"
      ]
     },
     "metadata": {
      "needs_background": "light"
     },
     "output_type": "display_data"
    }
   ],
   "source": [
    "greedy_values = []\n",
    "degree_values = []\n",
    "for k in [5, 10, 15, 20, 25]:\n",
    "    S = greedy_algorithm(G, k)\n",
    "    greedy_values.append(N_S(G, S))\n",
    "    S = degree_algorithm(G, k)\n",
    "    degree_values.append(N_S(G, S))\n",
    "\n",
    "plt.plot([5, 10, 15, 20, 25], greedy_values, color = 'red', label = \"Greedy\")\n",
    "plt.plot([5, 10, 15, 20, 25], degree_values, color = 'blue', label = \"Degree\")\n",
    "plt.legend(loc=\"upper left\")\n",
    "plt.title(\"Greedy Vs Degree : Objective Values\")\n",
    "plt.show()"
   ]
  },
  {
   "cell_type": "markdown",
   "metadata": {
    "id": "kp2rRh9kmTzi"
   },
   "source": [
    "### 2.3 Speedup the greedy algorithm \n",
    "\n",
    "Using the heap data structure we discussed in class, in order to speedup the implementation of the greedy algorithm. Call this variant of greedy **lazy greedy** and plot the running time of greedy and lazy greedy as a function of $k$. In a different figure also plot the value of the objective achieved by greedy and lazy greedy (just to make sure they are the same)."
   ]
  },
  {
   "cell_type": "code",
   "execution_count": 7,
   "metadata": {
    "id": "qqjIS1AodUmZ"
   },
   "outputs": [],
   "source": [
    "def lazy_greedy_algorithm(G, k):\n",
    "    S = set()\n",
    "    heap = []\n",
    "    heapify(heap)\n",
    "    \n",
    "    #Store all marginal gains w.r.t the empty set\n",
    "    for node in G.nodes:\n",
    "        marginal_gain = len([neighbour for neighbour in G.neighbors(node)])\n",
    "        heappush(heap, (-1 * marginal_gain, node))\n",
    "    \n",
    "    S.add(heappop(heap)[1])\n",
    "    \n",
    "    for iterations in range(1, k):\n",
    "        max_node = heappop(heap)[1]\n",
    "        second_max_node_gain =  -1 * heap[0][0]\n",
    "        \n",
    "        # Compute marginal gain of max_node\n",
    "        F_S_0 = 0\n",
    "        visited_neighbours = []\n",
    "        for node in S:\n",
    "            for neighbour in G.neighbors(node):\n",
    "                if neighbour not in visited_neighbours:\n",
    "                    visited_neighbours.append(neighbour)\n",
    "                    F_S_0 += 1\n",
    "    \n",
    "        S.add(max_node)\n",
    "        F_S_1 = 0\n",
    "        visited_neighbours = []\n",
    "        for node in S:\n",
    "            for neighbour in G.neighbors(node):\n",
    "                if neighbour not in visited_neighbours:\n",
    "                    visited_neighbours.append(neighbour)\n",
    "                    F_S_1 += 1\n",
    "        S.discard(max_node)\n",
    "\n",
    "        marginal_gain = F_S_1 - F_S_0\n",
    "\n",
    "        # Comparison\n",
    "        if marginal_gain >= second_max_node_gain:\n",
    "            S.add(max_node)\n",
    "    \n",
    "        else:\n",
    "            heappush(heap, (-1 * marginal_gain, max_node))\n",
    "            selected_node = -1\n",
    "            \n",
    "            while(selected_node == -1):\n",
    "                first_node = heappop(heap)[1]\n",
    "                second_node_gain =  -1 * heap[0][0]\n",
    "        \n",
    "                # Compute marginal gain of first_node\n",
    "                F_S_0 = 0\n",
    "                visited_neighbours = []\n",
    "                for node in S:\n",
    "                    for neighbour in G.neighbors(node):\n",
    "                        if neighbour not in visited_neighbours:\n",
    "                            visited_neighbours.append(neighbour)\n",
    "                            F_S_0 += 1\n",
    "    \n",
    "                S.add(first_node)\n",
    "                F_S_1 = 0\n",
    "                visited_neighbours = []\n",
    "                for node in S:\n",
    "                    for neighbour in G.neighbors(node):\n",
    "                        if neighbour not in visited_neighbours:\n",
    "                            visited_neighbours.append(neighbour)\n",
    "                            F_S_1 += 1\n",
    "                S.discard(first_node)\n",
    "\n",
    "                marginal_gain = F_S_1 - F_S_0\n",
    "\n",
    "                # Comparison\n",
    "                if marginal_gain > second_node_gain:\n",
    "                    selected_node = first_node  \n",
    "                else:\n",
    "                    heappush(heap, (-1 * marginal_gain, first_node))\n",
    "            \n",
    "            S.add(selected_node)\n",
    "            \n",
    "    return S"
   ]
  },
  {
   "cell_type": "code",
   "execution_count": 8,
   "metadata": {
    "id": "0GltUlQUfGvY"
   },
   "outputs": [],
   "source": [
    "greedy_values = []\n",
    "lazy_greedy_values = []\n",
    "greedy_times = []\n",
    "lazy_greedy_times = []\n",
    "for k in range(1, 10):\n",
    "    start = time.time()\n",
    "    S = greedy_algorithm(G, k)\n",
    "    greedy_times.append(time.time() - start)\n",
    "    greedy_values.append(N_S(G, S))\n",
    "    start = time.time()\n",
    "    S = lazy_greedy_algorithm(G, k)\n",
    "    lazy_greedy_times.append(time.time() - start)\n",
    "    lazy_greedy_values.append(N_S(G, S))"
   ]
  },
  {
   "cell_type": "code",
   "execution_count": 9,
   "metadata": {
    "colab": {
     "base_uri": "https://localhost:8080/",
     "height": 281
    },
    "id": "koVrXVAyy4MK",
    "outputId": "cba74ad8-a4e0-4315-d872-bff18bdd3a7a"
   },
   "outputs": [
    {
     "data": {
      "image/png": "[encoded data removed]",
      "text/plain": [
       "<Figure size 432x288 with 1 Axes>"
      ]
     },
     "metadata": {
      "needs_background": "light"
     },
     "output_type": "display_data"
    }
   ],
   "source": [
    "plt.plot(range(1, 10), greedy_values, color = 'red', label = \"Greedy\")\n",
    "plt.plot(range(1, 10), lazy_greedy_values, color = 'blue', label = \"Lazy Greedy\")\n",
    "plt.legend(loc=\"upper left\")\n",
    "plt.title(\"Greedy Vs Lazy Greedy : Objective values\")\n",
    "plt.show()"
   ]
  },
  {
   "cell_type": "code",
   "execution_count": 10,
   "metadata": {
    "colab": {
     "base_uri": "https://localhost:8080/",
     "height": 281
    },
    "id": "4hg8lsWEuLb0",
    "outputId": "b60adda3-508f-43dd-d536-50ff5f120273"
   },
   "outputs": [
    {
     "data": {
      "image/png": "[encoded data removed]",
      "text/plain": [
       "<Figure size 432x288 with 1 Axes>"
      ]
     },
     "metadata": {
      "needs_background": "light"
     },
     "output_type": "display_data"
    }
   ],
   "source": [
    "plt.plot(range(1, 10), greedy_times, color = 'red', label = \"Greedy\")\n",
    "plt.plot(range(1, 10), lazy_greedy_times, color = 'blue', label = \"Lazy Greedy\")\n",
    "plt.legend(loc=\"upper left\")\n",
    "plt.title(\"Greedy Vs Lazy Greedy : Computation Timings\")\n",
    "plt.show()"
   ]
  }
 ],
 "metadata": {
  "colab": {
   "collapsed_sections": [],
   "name": "homework7.ipynb",
   "provenance": []
  },
  "kernelspec": {
   "display_name": "Python 3 (ipykernel)",
   "language": "python",
   "name": "python3"
  },
  "language_info": {
   "codemirror_mode": {
    "name": "ipython",
    "version": 3
   },
   "file_extension": ".py",
   "mimetype": "text/x-python",
   "name": "python",
   "nbconvert_exporter": "python",
   "pygments_lexer": "ipython3",
   "version": "3.7.4"
  }
 },
 "nbformat": 4,
 "nbformat_minor": 1
}
