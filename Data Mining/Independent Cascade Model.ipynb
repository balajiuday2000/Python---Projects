{
 "cells": [
  {
   "cell_type": "markdown",
   "metadata": {
    "id": "dX6hIxhG53tC"
   },
   "source": [
    "## 1. Implementation \n",
    "\n",
    "Your goal is given $G=(V,E)$ and an integer $k$ to find a set of $S$ nodes so that the **expected spread of influence** from $S$ under the independent cascade model, denoted by $F(S)$ is maximized.\n",
    "\n",
    "Assume that information propagates using the independent cascade model, where for each edge $(u,v)$: $p_{uv}=p_{vu}=\\frac{1}{2}$.\n",
    "\n",
    "Remember you can find the paper here:\n",
    "https://www.cs.cornell.edu/home/kleinber/kdd03-inf.pdf\n",
    "\n",
    "For the experiments in this part you are going to use the graph available here (LastFM Asia network): \n",
    "https://snap.stanford.edu/data/feather-lastfm-social.html"
   ]
  },
  {
   "cell_type": "markdown",
   "metadata": {
    "id": "uySZtbNF1vqE"
   },
   "source": [
    "## 1.1 \n",
    "\n",
    "Implement the greedy algorithm in order to maximize F(S). In order to implement this algorithm you need to sample $N$ graphs (by sampling the edges according to their probabilities) and find the connected components of the corresponding sampled graphs."
   ]
  },
  {
   "cell_type": "code",
   "execution_count": null,
   "metadata": {
    "id": "R0zVWaaJ15Fq"
   },
   "outputs": [],
   "source": [
    "import networkx as nx\n",
    "import pandas as pd\n",
    "from operator import itemgetter\n",
    "import matplotlib.pyplot as plt\n",
    "from heapq import heappop, heappush, heapify\n",
    "import time\n",
    "import numpy as np"
   ]
  },
  {
   "cell_type": "code",
   "execution_count": null,
   "metadata": {
    "id": "pTokVUvt1-e9"
   },
   "outputs": [],
   "source": [
    "df = pd.read_csv('lastfm_asia_edges.csv')\n",
    "Graphtype = nx.Graph()\n",
    "G = nx.from_pandas_edgelist(df, source = 'node_1', target = 'node_2', edge_attr = None, create_using=Graphtype)"
   ]
  },
  {
   "cell_type": "code",
   "execution_count": null,
   "metadata": {
    "id": "lxzv9JRn2D9V"
   },
   "outputs": [],
   "source": [
    "def graph_sampling(G):\n",
    "    \n",
    "    graph_samples = []\n",
    "    for i in range(100): # Sample the original graph hundred times\n",
    "        A = G.copy()\n",
    "        for edge in G.edges:\n",
    "            if np.random.uniform(low=0.0, high=1.0, size=None) < 0.5:\n",
    "                A.remove_edge(edge[0], edge[1])\n",
    "        graph_samples.append(A)\n",
    "    \n",
    "    return graph_samples\n",
    "\n",
    "graph_samples = graph_sampling(G)"
   ]
  },
  {
   "cell_type": "code",
   "execution_count": null,
   "metadata": {
    "id": "hjT7RVFHBAx-"
   },
   "outputs": [],
   "source": [
    "list_ = [] # To store details about the samples\n",
    "for i in range(100):\n",
    "    list_.append(list(nx.connected_components(graph_samples[i])))"
   ]
  },
  {
   "cell_type": "code",
   "execution_count": null,
   "metadata": {
    "id": "f5_tlvOI2OFi"
   },
   "outputs": [],
   "source": [
    "def F_S(S, graph_samples):\n",
    "    \n",
    "    nodes_activated = 0\n",
    "    \n",
    "    for i in range(100):\n",
    "        cc_length = 0\n",
    "        nodes_visited = [] # Keeps track of nodes already activated\n",
    "        for node in S:\n",
    "            if node not in nodes_visited:\n",
    "                for cluster in list_[i]:\n",
    "                    if node in cluster:\n",
    "                        nodes_visited.extend(cluster) \n",
    "                        cc_length += len(cluster)\n",
    "                        break\n",
    "        nodes_activated += cc_length\n",
    "\n",
    "    return nodes_activated"
   ]
  },
  {
   "cell_type": "code",
   "execution_count": null,
   "metadata": {
    "id": "IaiV4haDJhvS"
   },
   "outputs": [],
   "source": [
    "def greedy_algorithm(G, k, graph_samples):\n",
    "    \n",
    "    S = set()\n",
    "    A = G.copy()\n",
    "    \n",
    "    for iterations in range(k):\n",
    "        \n",
    "        # Calculate F(S)\n",
    "        F_S_ = F_S(S, graph_samples)\n",
    "                    \n",
    "        max_marginal_gain = -1\n",
    "        selected_node = -1\n",
    "        \n",
    "        # Find F_S_e for all nodes currently remaining\n",
    "        for remaining_node in A.nodes:\n",
    "            S.add(remaining_node) # Add node to S\n",
    "            F_S_e = F_S(S, graph_samples)\n",
    "                        \n",
    "            # Calculate marginal gain\n",
    "            marginal_gain = F_S_e - F_S_\n",
    "            \n",
    "            if marginal_gain > max_marginal_gain:\n",
    "                max_marginal_gain = marginal_gain\n",
    "                selected_node = remaining_node\n",
    "                \n",
    "            S.discard(remaining_node) # Remove node from S\n",
    "            \n",
    "        # Add selected node to S\n",
    "        S.add(selected_node)\n",
    "        A.remove_node(selected_node)\n",
    "        \n",
    "    return S"
   ]
  },
  {
   "cell_type": "markdown",
   "metadata": {
    "id": "npo1ggpR1vqF"
   },
   "source": [
    "## 1.2 \n",
    "\n",
    "\n",
    "Implement the \"lazy\" greedy algorithm of the above version of greedy and plot the performande (in terms of $F(S)$) of each algorithm as a function of $k$. (they should be identical). \n",
    "\n",
    "In a different plot, plot the running time of greedy and lazy greedy as a function of $k$."
   ]
  },
  {
   "cell_type": "code",
   "execution_count": null,
   "metadata": {
    "id": "w-kXSuS3jIOZ"
   },
   "outputs": [],
   "source": [
    "def lazy_greedy_algorithm(G, k, graph_samples):\n",
    "    \n",
    "    S = set()\n",
    "    heap = []\n",
    "    heapify(heap)\n",
    "    \n",
    "    #Store all marginal gains w.r.t the empty set\n",
    "    for node in G.nodes:\n",
    "        marginal_gain = F_S([node], graph_samples)\n",
    "        heappush(heap, (-1 * marginal_gain, node))\n",
    "    \n",
    "    S.add(heappop(heap)[1])\n",
    "    \n",
    "    for iterations in range(1, k):\n",
    "        max_node = heappop(heap)[1]\n",
    "        second_max_node_gain =  -1 * heap[0][0]\n",
    "      \n",
    "        # Compute marginal gain of max_node\n",
    "        F_S_0 = F_S(S, graph_samples)\n",
    "        S.add(max_node)\n",
    "        F_S_1 = F_S(S, graph_samples)\n",
    "        S.discard(max_node)\n",
    "        marginal_gain = F_S_1 - F_S_0\n",
    "\n",
    "        # Comparison\n",
    "        if marginal_gain >= second_max_node_gain:\n",
    "            S.add(max_node)\n",
    "    \n",
    "        else:\n",
    "            heappush(heap, (-1 * marginal_gain, max_node))\n",
    "            selected_node = -1\n",
    "            \n",
    "        while(selected_node == -1):\n",
    "            first_node = heappop(heap)[1]\n",
    "            second_node_gain =  -1 * heap[0][0]\n",
    "        \n",
    "            # Compute marginal gain of first_node\n",
    "            F_S_0 = F_S(S, graph_samples)\n",
    "            S.add(first_node)\n",
    "            F_S_1 = F_S(S, graph_samples)\n",
    "            marginal_gain = F_S_1 - F_S_0\n",
    "            S.discard(first_node)\n",
    "\n",
    "            # Comparison\n",
    "            if marginal_gain >= second_node_gain:\n",
    "                selected_node = first_node  \n",
    "            else:\n",
    "                heappush(heap, (-1 * marginal_gain, first_node))\n",
    "          \n",
    "        S.add(selected_node)\n",
    "            \n",
    "    return S"
   ]
  },
  {
   "cell_type": "code",
   "execution_count": null,
   "metadata": {
    "id": "4muKoiYHey9d"
   },
   "outputs": [],
   "source": [
    "greedy_values = []\n",
    "lazy_greedy_values = []\n",
    "greedy_times = []\n",
    "lazy_greedy_times = []\n",
    "for k in range(1, 11):\n",
    "    start = time.time()\n",
    "    S = greedy_algorithm(G, k, graph_samples)\n",
    "    greedy_times.append(time.time() - start)\n",
    "    greedy_values.append(F_S(S, graph_samples))\n",
    "    start = time.time()\n",
    "    S = lazy_greedy_algorithm(G, k, graph_samples)\n",
    "    lazy_greedy_times.append(time.time() - start)\n",
    "    lazy_greedy_values.append(F_S(S, graph_samples))"
   ]
  },
  {
   "cell_type": "code",
   "execution_count": null,
   "metadata": {
    "colab": {
     "base_uri": "https://localhost:8080/",
     "height": 281
    },
    "id": "nmwC_Ckue3F8",
    "outputId": "0600ecc8-9444-4ab5-acee-55873ee21667"
   },
   "outputs": [
    {
     "data": {
      "image/png": "[encoded data removed]",
      "text/plain": [
       "<Figure size 432x288 with 1 Axes>"
      ]
     },
     "metadata": {
      "needs_background": "light"
     },
     "output_type": "display_data"
    }
   ],
   "source": [
    "plt.plot(range(1, 11), greedy_values, color = 'red', label = \"Greedy\")\n",
    "plt.plot(range(1, 11), lazy_greedy_values, color = 'blue', label = \"Lazy Greedy\")\n",
    "plt.legend(loc=\"upper left\")\n",
    "plt.title(\"Greedy Vs Lazy Greedy : Objective values\")\n",
    "plt.show()"
   ]
  },
  {
   "cell_type": "code",
   "execution_count": null,
   "metadata": {
    "colab": {
     "base_uri": "https://localhost:8080/",
     "height": 281
    },
    "id": "Wia1nDEZe8sA",
    "outputId": "483ff0f6-bd37-49b4-9c6e-e6b8761c0bbc"
   },
   "outputs": [
    {
     "data": {
      "image/png": "[encoded data removed]",
      "text/plain": [
       "<Figure size 432x288 with 1 Axes>"
      ]
     },
     "metadata": {
      "needs_background": "light"
     },
     "output_type": "display_data"
    }
   ],
   "source": [
    "plt.plot(range(1, 11), greedy_times, color = 'red', label = \"Greedy\")\n",
    "plt.plot(range(1, 11), lazy_greedy_times, color = 'blue', label = \"Lazy Greedy\")\n",
    "plt.legend(loc=\"upper left\")\n",
    "plt.title(\"Greedy Vs Lazy Greedy : Computation Timings\")\n",
    "plt.show()"
   ]
  },
  {
   "cell_type": "markdown",
   "metadata": {
    "id": "R1rBD6Mk1vqF"
   },
   "source": [
    "## 1.3 Comparison with baselines \n",
    "\n",
    "\n",
    "Implement the \"degree\" baseline that picks nodes according to their degree in the original graph.\n",
    "\n",
    "\n",
    "Plot the value $F(S)$ of the solution achieved by lazy greedy and degree as a function of $k$."
   ]
  },
  {
   "cell_type": "code",
   "execution_count": null,
   "metadata": {
    "id": "N-O7Kk5gGu2i"
   },
   "outputs": [],
   "source": [
    "def degree_algorithm(G, k):\n",
    "    \n",
    "    S = set()\n",
    "    top_k = sorted(G.degree, key=lambda x: x[1], reverse=True)[:k]\n",
    "    for element in top_k:\n",
    "        S.add(element[0])\n",
    "    return S"
   ]
  },
  {
   "cell_type": "code",
   "execution_count": null,
   "metadata": {
    "id": "_uKW9hXNHGI2"
   },
   "outputs": [],
   "source": [
    "degree_values = []\n",
    "for k in range(1, 11):\n",
    "    S = degree_algorithm(G, k)\n",
    "    degree_values.append(F_S(S, graph_samples))"
   ]
  },
  {
   "cell_type": "code",
   "execution_count": null,
   "metadata": {
    "colab": {
     "base_uri": "https://localhost:8080/",
     "height": 281
    },
    "id": "U7X_SPkEHf2S",
    "outputId": "391a26b6-97da-4644-e427-51aa63b08d33"
   },
   "outputs": [
    {
     "data": {
      "image/png": "[encoded data removed]",
      "text/plain": [
       "<Figure size 432x288 with 1 Axes>"
      ]
     },
     "metadata": {
      "needs_background": "light"
     },
     "output_type": "display_data"
    }
   ],
   "source": [
    "plt.plot(range(1, 11), lazy_greedy_values, color = 'red', label = \"Lazy Greedy\")\n",
    "plt.plot(range(1, 11), degree_values, color = 'blue', label = \"Degree\")\n",
    "plt.legend(loc=\"upper left\")\n",
    "plt.title(\"Greedy Vs  Degree : Objective values\")\n",
    "plt.show()"
   ]
  },
  {
   "cell_type": "markdown",
   "metadata": {
    "id": "9g5wm7KZbLM7"
   },
   "source": [
    "The degree algorithm selects nodes from the same connected components each time and hence only the nodes in the connected component are activated even as k keeps on increasing."
   ]
  }
 ],
 "metadata": {
  "colab": {
   "collapsed_sections": [],
   "name": "Copy of homework8.ipynb",
   "provenance": []
  },
  "kernelspec": {
   "display_name": "Python 3 (ipykernel)",
   "language": "python",
   "name": "python3"
  },
  "language_info": {
   "codemirror_mode": {
    "name": "ipython",
    "version": 3
   },
   "file_extension": ".py",
   "mimetype": "text/x-python",
   "name": "python",
   "nbconvert_exporter": "python",
   "pygments_lexer": "ipython3",
   "version": "3.7.4"
  }
 },
 "nbformat": 4,
 "nbformat_minor": 1
}
