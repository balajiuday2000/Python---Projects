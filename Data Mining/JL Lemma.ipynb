{
 "cells": [
  {
   "cell_type": "markdown",
   "metadata": {
    "id": "dX6hIxhG53tC"
   },
   "source": [
    "**Locality-sensitive hashing**: Consider a locality sensitive hashing function $h$ associated with distance function $d$. Assume that $h$ and $d$ are associated with the following relationship:\n",
    "\n",
    "$$\\text{Pr}(h(x)\\neq h(y)) = d(x,y)$$\n",
    "\n",
    "for every pair of points $x,y$.\n",
    "\n",
    "Show that if the above equation is correct, then $d$ is a metric.\n"
   ]
  },
  {
   "cell_type": "markdown",
   "metadata": {
    "id": "aSBmL-SwGx1O"
   },
   "source": [
    "### Proof 1 :\n",
    "\n",
    "#### 1. Non-negativity : d(x,y) >= 0\n",
    "\n",
    "Since d is calculated as the probability of the hashes of x and y being equal, d always lies between 0 and 1. <br>\n",
    "So, d(x,y) >= 0\n",
    "\n",
    "#### 2. Isolation : d(x,y) = 0 <=> x = y\n",
    "\n",
    "#### a) x = y => d(x,y) = 0\n",
    "\n",
    "When x = y, <br>\n",
    "d(x,x) = Pr(h(x) != h(x)) = 0 <br>\n",
    "\n",
    "#### b) d(x,y) = 0 => x = y\n",
    "\n",
    "d(x,y) = 0 <br>\n",
    "Pr(h(x) != h(y)) = 0 <br>\n",
    "The probability that the hashes are not equal is zero implies that they are the same hashes.\n",
    "=> h(x) = h(y)\n",
    "x = y\n",
    "\n",
    "#### 3. Symmetry : d(x,y) = d(y,x)\n",
    "\n",
    "d(x,y) = Pr(h(x) != h(y)) <br>\n",
    "= Pr(h(y) != h(x)) <br>\n",
    "= d(y,x) <br>\n",
    "\n",
    "#### 4. Triangle inequality : d(x,y) <= d(x,z) + d(z,y)\n",
    "\n",
    "d(x,y) = Pr(h(x) != h(y)) <br>\n",
    "= Pr(h(x) != h(y), h(x) = h(z)) + Pr(h(x) !=h(y), h(x) != h(z)) <br>\n",
    "<= Pr(h(y) != h(z)) + Pr(h(x) != h(z)) <br>\n",
    "<= d(y,z) + d(x,z) <br>\n",
    "\n",
    "### Since it satisfies all 4 properties, it is a distance metric. "
   ]
  },
  {
   "cell_type": "markdown",
   "metadata": {},
   "source": [
    "**Dimensionality Reduction**: There are multiple techniques for performing dimensionality reduction. In this problem, we will use *Johnson-Lindenstrauss* (lemma) and *SVD*."
   ]
  },
  {
   "cell_type": "markdown",
   "metadata": {},
   "source": [
    "### 2.1 Loading Data\n",
    "\n",
    "We have prepared 10 images from the imagenet2012 dataset. We have chosen 5 images that belong to a class (class 0) and 5 images that belong to another class (class 1). The images are contained in a zip file that has been posted on piazza. Download this zip file.\n",
    "\n",
    "Write code that loads each image (using numpy) and unrolls the image into one long vector. Each image vector should then be stacked to form a matrix with 10 rows and 256*256*3 columns. You will also need to cast each vector to be floating point instead of unsigned integers."
   ]
  },
  {
   "cell_type": "code",
   "execution_count": 72,
   "metadata": {
    "ExecuteTime": {
     "end_time": "2022-02-16T01:13:12.295056Z",
     "start_time": "2022-02-16T01:13:12.240007Z"
    }
   },
   "outputs": [],
   "source": [
    "import numpy as np\n",
    "import glob\n",
    "\n",
    "matrix = np.empty((0,196608))\n",
    "\n",
    "for file in glob.glob('./hw2_data_10_imgs/class_[01]/*.np[yz]'):\n",
    "    matrix = np.vstack([matrix,np.load(file).reshape(-1).astype(np.float)])"
   ]
  },
  {
   "cell_type": "markdown",
   "metadata": {},
   "source": [
    "### 2.2 SVD \n",
    "\n",
    "Please use SVD to reduce the dimensionality of the images you loaded from part 2.1 to 2 dimensions. Also plot the dataset using feature 1 as the x axis and feature 2 as the y axis. Color code each point based on whether that point belongs to class 0 or class 1 (blue points for class 0 and red points for class 1). In your opinion, can we distinguish between the two classes in the 2-dimensional data?"
   ]
  },
  {
   "cell_type": "code",
   "execution_count": 74,
   "metadata": {
    "ExecuteTime": {
     "end_time": "2022-02-16T01:13:34.791710Z",
     "start_time": "2022-02-16T01:13:34.626268Z"
    }
   },
   "outputs": [
    {
     "data": {
      "image/png": "[encoded data removed]",
      "text/plain": [
       "<Figure size 432x288 with 1 Axes>"
      ]
     },
     "metadata": {
      "needs_background": "light"
     },
     "output_type": "display_data"
    }
   ],
   "source": [
    "import matplotlib.pyplot as plt\n",
    "\n",
    "u,s,vt=np.linalg.svd(matrix,full_matrices=False)\n",
    "\n",
    "plt.scatter(u[:5,0], u[:5,1], color = 'red')\n",
    "plt.scatter(u[5:,0], u[5:,1], color = 'blue')\n",
    "plt.show()"
   ]
  },
  {
   "cell_type": "markdown",
   "metadata": {},
   "source": [
    "No, we cannot distinguish between the two classes in the 2-dimensional data as there is no clear linear boundary."
   ]
  },
  {
   "cell_type": "markdown",
   "metadata": {},
   "source": [
    "### 2.3 Johnson Lindenstrauss:\n",
    "\n",
    "Reminder, the Johnson-Lindenstrauss Lemma is as follows:\n",
    "\n",
    "Given $\\epsilon > 0$ and $n\\in \\mathbb{Z}^{>0}$, let $k \\in \\mathbb{Z}^{>0}$ such that $k \\ge k_0 \\in O(\\epsilon^{-2}\\log{n})$. For every set $P$ of $n$ points in $\\mathbb{R}^{d}$ there exists $f: \\mathbb{R}^{d} \\rightarrow \\mathbb{R}^{k}$ such that for all $\\{u,v\\}\\in P$\n",
    "$$(1-\\epsilon)||u-v||_2^2 \\le ||f(u)-f(v)||_2^2 \\le (1+\\epsilon)||u-v||_2^2$$\n",
    "\n",
    "Basically, JL tells us that we can map any point cloud into a smaller dimensionality while (roughly) preserving the local geometry of the point cloud.\n",
    "\n",
    "We would like to take this a step further. Let us use a slightly different version of JL which is more straighforward to implement (from this paper http://people.ee.duke.edu/~lcarin/p93.pdf):\n",
    "\n",
    "Given $\\epsilon, \\beta > 0$ let $k_0 = \\frac{4+2\\beta}{\\epsilon^2/2 - \\epsilon^3/3}\\log{n}$. For every integer $k\\ge k_0$, let $R$ be a $d\\times k$ random matrix with $R(i,j) = r_{ij}$ where each $r_{ij}$ are independent random variables with pmf:\n",
    "\n",
    "$r_{ij} = \\sqrt{3}\\times\\begin{cases}\n",
    "+1 & \\text{w/ prob } 1/6\\\\\n",
    "0  & \\text{w/ prob } 2/3\\\\\n",
    "-1 & \\text{w/ prob } 1/6\n",
    "\\end{cases}$\n",
    "\n",
    "Let $f: \\mathbb{R}^{d} \\rightarrow \\mathbb{R}^{k} = \\frac{1}{\\sqrt{k}}R$\n",
    "\n",
    "With probability at least $1-n^{-\\beta}$, for all $u,v\\in P$\n",
    "$$(1-\\epsilon)||u-v||_2^2 \\le ||\\frac{1}{\\sqrt{k}}Ru-\\frac{1}{\\sqrt{k}}Rv||_2^2 \\le (1+\\epsilon)||u-v||_2^2$$"
   ]
  },
  {
   "cell_type": "markdown",
   "metadata": {},
   "source": [
    "#### 2.3.1 JL Implementation \n",
    "\n",
    "Write code to implement the *sparse* JL version mentioned above. Your code should be a python function which should take as arguments the point cloud $A$, and parameters $\\epsilon$, $\\beta$, and $k$. Your function should produce the points in the new dimensional space."
   ]
  },
  {
   "cell_type": "code",
   "execution_count": 126,
   "metadata": {
    "ExecuteTime": {
     "end_time": "2022-02-16T03:33:55.935139Z",
     "start_time": "2022-02-16T03:33:55.911981Z"
    }
   },
   "outputs": [],
   "source": [
    "def randomElement(i):\n",
    "    return ((3 ** (1/2)) * np.random.choice([1, 0, -1], p=[1/6, 2/3, 1/6]))\n",
    "\n",
    "def monteCarlo_JL(A, epsilon, beta, k):\n",
    "    \n",
    "    R = np.vectorize(randomElement)(np.empty((k, A.shape[1])))\n",
    "    R *= (1.0/(k ** (1/2)))\n",
    "    pointCloud = np.matmul(A, R.transpose())\n",
    "    \n",
    "    return pointCloud"
   ]
  },
  {
   "cell_type": "markdown",
   "metadata": {},
   "source": [
    "#### 2.3.2 Guaranteeing JL \n",
    "\n",
    "Note that JL is probabilistic, in other words when we sample $R$, we might not succeed. This is called a *Monte-Carlo* algorithm (may not succeed but has polynomial runtime). We would like to convert this into a *Las-Vegas* algorithm (always succeeds but may not have bounded runtime however has polynomial expected runtime).\n",
    "\n",
    "Write code to convert JL into a Las-Vegas algorithm by repeating the JL transform until it succeeds. Your algorithm should produce the data in the new dimsionality as well as the number of iterations your algorithm took to succeed. "
   ]
  },
  {
   "cell_type": "code",
   "execution_count": 127,
   "metadata": {
    "ExecuteTime": {
     "end_time": "2022-02-16T03:34:00.463775Z",
     "start_time": "2022-02-16T03:34:00.441963Z"
    }
   },
   "outputs": [],
   "source": [
    "from scipy.spatial.distance import cdist\n",
    "\n",
    "def checkBounds(distPC, distA, epsilon):\n",
    "    if(((1 - epsilon) * distA > distPC).any() or (distPC > (1 + epsilon) * distA).any()):\n",
    "        return False\n",
    "    return True\n",
    "\n",
    "def lasVegas_JL(A, epsilon, beta, k):\n",
    "    \n",
    "    flag = False\n",
    "    iteration = 0\n",
    "    while(flag == False):\n",
    "        iteration += 1\n",
    "        pointCloud = monteCarlo_JL(A, epsilon, beta, k)\n",
    "        distPC = cdist(pointCloud, pointCloud, 'euclid')\n",
    "        distA = cdist(A, A, 'euclid')\n",
    "        flag = checkBounds(distPC, distA, epsilon)\n",
    "        \n",
    "    return iteration, pointCloud "
   ]
  },
  {
   "cell_type": "markdown",
   "metadata": {},
   "source": [
    "#### 2.3.4 JL Experiments \n",
    "\n",
    "Note that we *cannot* project the images into 2 dimensions using JL while approximately preserving the geometry of the points (why not?). Choose $\\epsilon,\\beta$ so that we map the images into 32 dimensions (which is still much smaller than the original dimensionality!). Run the algorithm 100 times and record the number of iterations after each trial and compute the empirical average of your samples. Does the empirical average match the expected number of iterations?"
   ]
  },
  {
   "cell_type": "markdown",
   "metadata": {},
   "source": [
    "We cannot project the images into 2 dimensions using JL while approximately preserving the geometry of the points because, the value of k must be such that $k \\ge k_0 \\in O(\\epsilon^{-2}\\log{n})$ and $k=2 << k_0$"
   ]
  },
  {
   "cell_type": "code",
   "execution_count": 129,
   "metadata": {
    "ExecuteTime": {
     "end_time": "2022-02-16T03:48:29.118146Z",
     "start_time": "2022-02-16T03:34:30.564564Z"
    }
   },
   "outputs": [
    {
     "name": "stdout",
     "output_type": "stream",
     "text": [
      "Emperical Average =  1.0\n"
     ]
    }
   ],
   "source": [
    "iterations = []\n",
    "for i in range(100):\n",
    "    iteration, pointCloud = lasVegas_JL(matrix, 0.8, 0.5, 32)\n",
    "    iterations.append(iteration)\n",
    "\n",
    "print(\"Emperical Average = \", sum(iterations)/len(iterations))"
   ]
  },
  {
   "cell_type": "markdown",
   "metadata": {},
   "source": [
    "#### 2.3.5 Comparing JL to SVD \n",
    "\n",
    "Even though we cannot preserve the geometry while mapping to 2 dimensions, lets do it anyways. Project the images into two dimensions using your Monte-Carlo JL function and plot the resulting data using the same scheme as when we plotted the results from SVD. Can we distinguish between the two classes?"
   ]
  },
  {
   "cell_type": "code",
   "execution_count": 80,
   "metadata": {
    "ExecuteTime": {
     "end_time": "2022-02-16T01:16:14.145094Z",
     "start_time": "2022-02-16T01:16:08.487851Z"
    }
   },
   "outputs": [
    {
     "data": {
      "image/png": "[encoded data removed]",
      "text/plain": [
       "<Figure size 432x288 with 1 Axes>"
      ]
     },
     "metadata": {
      "needs_background": "light"
     },
     "output_type": "display_data"
    }
   ],
   "source": [
    "pointCloud = monteCarlo_JL(matrix, 0.8, 0.5, 2)\n",
    "plt.scatter(pointCloud[:5,0], pointCloud[:5,1], color = 'red')\n",
    "plt.scatter(pointCloud[5:,0], pointCloud[5:,1], color = 'blue')\n",
    "plt.show()"
   ]
  },
  {
   "cell_type": "markdown",
   "metadata": {},
   "source": [
    "No, we still can't distinguish between the two classes since there's no proper linear boundary."
   ]
  }
 ],
 "metadata": {
  "colab": {
   "collapsed_sections": [],
   "name": "homework1.ipynb",
   "provenance": []
  },
  "kernelspec": {
   "display_name": "Python 3 (ipykernel)",
   "language": "python",
   "name": "python3"
  },
  "language_info": {
   "codemirror_mode": {
    "name": "ipython",
    "version": 3
   },
   "file_extension": ".py",
   "mimetype": "text/x-python",
   "name": "python",
   "nbconvert_exporter": "python",
   "pygments_lexer": "ipython3",
   "version": "3.7.4"
  }
 },
 "nbformat": 4,
 "nbformat_minor": 1
}
