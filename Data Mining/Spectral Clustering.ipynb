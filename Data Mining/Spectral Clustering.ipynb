{
 "cells": [
  {
   "cell_type": "markdown",
   "metadata": {
    "id": "kt1JHDsr4dHs"
   },
   "source": [
    "# <center> **CS 565, Spring 2022, Homework 5**\n",
    "### <center> Due **Tues March 29, 11:59 pm ET (Boston time)**, via Gradescope\n",
    "\n",
    "\n"
   ]
  },
  {
   "cell_type": "markdown",
   "metadata": {
    "id": "6MSiDOUbDbuv"
   },
   "source": [
    "### **Submission guidelines** \n",
    "Please write your solutions inside of this .ipynb file, then convert it to a PDF before submitting on Gradescope:\n",
    "\n",
    "*   **In Jupyter:** File > Download as > PDF\n",
    "*   **In Google Colab:** File > Print > Destination > Save as PDF\n",
    "\n",
    "When you submit, please **be sure to match the answers on your PDF to the outline on Gradescope.** In other words, if the answer to problem 2.1 is on pages 2 and 3 of your PDF, please be sure to select those pages as the answer to problem 2.1 on Gradescope. Since it takes significantly longer to grade homework that is not properly matched, **we may deduct points** for noncompliant submissions.\n",
    "\n",
    "Andrew (the TF) will cover how to get started with the notebooks for writing problem solutions and running experiments. \n",
    "\n",
    "<div style=\"page-break-after: always;\"></div>"
   ]
  },
  {
   "cell_type": "markdown",
   "metadata": {
    "id": "dX6hIxhG53tC"
   },
   "source": [
    "## 1. Graph component (40 points) \n",
    "\n",
    "\n",
    "Consider an undirected, unweighted graph $G=(V,E)$. \n",
    "For any subset of nodes $X\\subseteq V$ we define the graph \\emph{induced} by $X$,\n",
    "denoted by $G[X]=\\left(X,E[X]\\right)$, to be the graph that has nodes $X$ and edges\n",
    "$E[X]$ the subset of edges in $E$ that have \\emph{both} their endpoints in $X$.\n",
    "Also given a graph $G(V,E)$ and a node $v\\in V$ we use $\\text{degree}(v,G)$ to denote\n",
    "the degree of $v$ in $G$.\n",
    "\n",
    "Given the above definitions consider the following problem:\n",
    "\n",
    "**max-minimum degree component**: Given $G=(V,E)$ find\n",
    "$S\\subseteq V$ such that \n",
    "\n",
    "$$\n",
    "\\min_{v\\in S}\\text{degree}(v,G[S]),\n",
    "$$\n",
    "is maximized.\n"
   ]
  },
  {
   "cell_type": "markdown",
   "metadata": {
    "id": "pTcjuEHHVqwT"
   },
   "source": [
    "## 1.1  (20 points) \n",
    "\n",
    "Design a polynomial-time algorithm for solving the above problem \\emph{optimally}\n",
    "Compute the running time of your algorithm. \n"
   ]
  },
  {
   "cell_type": "markdown",
   "metadata": {
    "id": "aSBmL-SwGx1O"
   },
   "source": [
    "**Algorithm :**\n",
    "\n",
    "1. Let $S$ be the subset of vertices, initialized as $V$.\n",
    "2. Let $H_S$ be the subgraph induced by vertices $S$.\n",
    "3. For each iteration, eliminate the vertex with lowest degree in $H_S$ from $S$ and recompute it's minimum degree.\n",
    "4. Return the subgraph $H_S$ with the maximum of the minimum degrees computed.\n",
    "\n",
    "**Running Time :**\n",
    "\n",
    "This algorithm can be naively implemented to run in $O(|V|^2)$ time. To prove the time complexity, it is enough to observe that there are $|V|$ iterations at most; each iteration requires $O(|V|)$ time to find the vertex u with minimum degree with respect to the current subgraph (breaking ties arbitrarily), and another $O(|V|)$ time to update the subgraph once u has been removed."
   ]
  },
  {
   "cell_type": "markdown",
   "metadata": {
    "id": "XpDvzweLVqwU"
   },
   "source": [
    "## 1.2 (20 points)\n",
    "\n",
    "\n",
    "Prove that your algorithm is optimal. \n"
   ]
  },
  {
   "cell_type": "markdown",
   "metadata": {
    "id": "H-D2S3WJVqwU"
   },
   "source": [
    "**Proof:**\n",
    "\n",
    "Since the objective is to maximise the minimum degree, at each iteration, the algorithm removes the vertex involved in the objective (i.e.) the vertex with minimum degree and there by leaving only nodes with degree greater than that. <br>\n",
    "After some point, removing the node with minimum degree may only furthur lower the minimum degree of the resultant subgraph. <br>\n",
    "Finally, the algorithm returns the subgraph from one of the iterations where the minimum degree cannot be maximized any further."
   ]
  },
  {
   "cell_type": "markdown",
   "metadata": {
    "id": "Xlg66WHJVqwV"
   },
   "source": [
    "## 2. Implementation (60 points)\n",
    "\n",
    "\n",
    "This part of the homework will enable you to test and understand spectral clustering"
   ]
  },
  {
   "cell_type": "markdown",
   "metadata": {
    "id": "4vmdJuWpVqwV"
   },
   "source": [
    "### 2.1 Implement the planted partition model (20 points)\n",
    "\n",
    "The planted partition model is a graph-generation model that has four parameters $n,k,p,q$:\n",
    "    - $n$ corresponds to the nodes of the graph, which is an undirected and unweighted graph; \n",
    "    - $k$ corresponds to the number of \"clusters\" in which the nodes of the graph are partitioned; \n",
    "    - $p$ corresponds to the probability that two nodes in the same cluster are connected by an edge and \n",
    "    - $q$ corresponds to the probability that two nodes that belong in different clusters are connected by an edge.\n",
    "    \n",
    "Note that the clusters have no overlap between them and also the partition of nodes into clusters is random. Also, for the model to make sense it should be that $p>q$.\n",
    "\n",
    "Write a function that generates a graph $G$ according to the random partition model."
   ]
  },
  {
   "cell_type": "code",
   "execution_count": 1,
   "metadata": {
    "id": "7ntcGVm5VqwW"
   },
   "outputs": [],
   "source": [
    "import numpy as np\n",
    "import random\n",
    "\n",
    "def planted_partition(n, k, p, q):\n",
    "    \n",
    "    # Adjacency matrix\n",
    "    adj_matrix = np.empty((n,n))\n",
    "    \n",
    "    # Assign nodes to k clusters randomly\n",
    "    clusters = []\n",
    "    for i in range(k):\n",
    "        clusters.append([])\n",
    "    for i in range(n):\n",
    "        assigned_cluster = random.randint(0, k-1)\n",
    "        clusters[assigned_cluster].append(i)\n",
    "    \n",
    "    # Populate the adjacency matrix\n",
    "    seen = []\n",
    "    for i in range(n):\n",
    "        for j in range(n):\n",
    "            if i != j and (i, j) not in seen:\n",
    "                cluster_i = [k for k, cluster in enumerate(clusters) if i in cluster][0]\n",
    "                cluster_j = [k for k, cluster in enumerate(clusters) if j in cluster][0]\n",
    "                if cluster_i == cluster_j:\n",
    "                    adj_matrix[i][j] = adj_matrix[j][i] = int(random.random() < p)\n",
    "                    seen.extend([(i,j), (j,i)])\n",
    "                else:\n",
    "                    adj_matrix[i][j] = adj_matrix[j][i] = int(random.random() < q)\n",
    "                    seen.extend([(i,j) , (j,i)])\n",
    "            elif i == j:\n",
    "                adj_matrix[i][j] = 0\n",
    "                \n",
    "    return clusters, adj_matrix"
   ]
  },
  {
   "cell_type": "markdown",
   "metadata": {
    "id": "l5zU9uMyVqwX"
   },
   "source": [
    "### 2.2 Implement spectral clustering (20 points)\n",
    "\n",
    "In this part of the exercise you need to implement spectral clustering. Given a graph $G$, form its Laplacian matrix and compute its fiedler vector. Assign the nodes to clusters based on the their sign in the fiedler vector."
   ]
  },
  {
   "cell_type": "code",
   "execution_count": 2,
   "metadata": {
    "id": "90og8Aa1VqwX"
   },
   "outputs": [],
   "source": [
    "import numpy as np\n",
    "import scipy.linalg as la\n",
    "import matplotlib.pyplot as plt\n",
    "\n",
    "def spectral_clustering(adj_matrix):\n",
    "    \n",
    "    # Degree matrix\n",
    "    deg_matrix = np.diag(np.sum(adj_matrix, axis=1))\n",
    "        \n",
    "    # Laplacian matrix\n",
    "    lap_matrix = deg_matrix - adj_matrix\n",
    "    \n",
    "    \n",
    "    # Fiedler vector\n",
    "    eig_values, eig_vectors = la.eig(lap_matrix)\n",
    "    fiedler_pos = np.where(eig_values.real == np.sort(eig_values.real)[1])[0][0]\n",
    "    fiedler_vector = np.transpose(eig_vectors)[fiedler_pos].real\n",
    "    \n",
    "    # Assigning nodes to clusters\n",
    "    clusters = [[], []]\n",
    "    for i, value in enumerate(fiedler_vector):\n",
    "        if value < 0.0:\n",
    "            clusters[0].append(i)\n",
    "        else:\n",
    "            clusters[1].append(i)\n",
    "    \n",
    "    return eig_values[fiedler_pos].real, clusters"
   ]
  },
  {
   "cell_type": "markdown",
   "metadata": {},
   "source": [
    "**Toy Example :**"
   ]
  },
  {
   "cell_type": "code",
   "execution_count": 3,
   "metadata": {
    "colab": {
     "base_uri": "https://localhost:8080/"
    },
    "id": "13dy4pjYVqwY",
    "outputId": "9a1ab386-24e0-4f0e-ab26-1e1f61df978e"
   },
   "outputs": [
    {
     "name": "stdout",
     "output_type": "stream",
     "text": [
      "Original clustering : \n",
      "[[4, 5, 7, 8, 9], [0, 1, 2, 3, 6]]\n"
     ]
    }
   ],
   "source": [
    "print(\"Original clustering : \")     \n",
    "clusters, adj_matrix = planted_partition(10, 2, 1.0, 0.2)\n",
    "print(clusters)"
   ]
  },
  {
   "cell_type": "code",
   "execution_count": 4,
   "metadata": {
    "colab": {
     "base_uri": "https://localhost:8080/"
    },
    "id": "vHac8ORbVqwZ",
    "outputId": "2b5efdf9-0f83-49a4-c8c1-0759af274cd6"
   },
   "outputs": [
    {
     "name": "stdout",
     "output_type": "stream",
     "text": [
      "Clustering found :\n",
      "[[4, 5, 7, 8, 9], [0, 1, 2, 3, 6]]\n"
     ]
    }
   ],
   "source": [
    "print(\"Clustering found :\")\n",
    "fiedler_value, clusters = spectral_clustering(adj_matrix)\n",
    "print(clusters)"
   ]
  },
  {
   "cell_type": "markdown",
   "metadata": {
    "id": "kEDejXplVqwZ"
   },
   "source": [
    "### 2.3 Test Your Implementation (20 points)\n",
    "\n",
    "Generate data using the random partition model for $n=5000$, \n",
    "$k=2$ $p=0.8$ and $q\\in\\{0.001, 0.01, 0.1, 0.2, 0.3\\}$. Report the value of graph expansion of the partition found by your clustering algorithm."
   ]
  },
  {
   "cell_type": "code",
   "execution_count": 5,
   "metadata": {
    "colab": {
     "base_uri": "https://localhost:8080/"
    },
    "id": "Hv9CL_KKVqwZ",
    "outputId": "2dbd7354-05a1-4a7c-8162-1e6e99fbaa6d"
   },
   "outputs": [
    {
     "name": "stdout",
     "output_type": "stream",
     "text": [
      "Fiedler value :  4.966989208512773\n"
     ]
    }
   ],
   "source": [
    "orig_clusters_1, adj_matrix_1 = planted_partition(5000, 2, 0.8, 0.001)\n",
    "fiedler_value_1, comp_clusters_1 = spectral_clustering(adj_matrix_1)\n",
    "print(\"Fiedler value : \", fiedler_value_1)"
   ]
  },
  {
   "cell_type": "code",
   "execution_count": 6,
   "metadata": {
    "colab": {
     "base_uri": "https://localhost:8080/"
    },
    "id": "IF77-Ax2VbC6",
    "outputId": "a28f1d32-0da3-4cec-ab3f-31e9bc12724e"
   },
   "outputs": [
    {
     "name": "stdout",
     "output_type": "stream",
     "text": [
      "Graph expansion value, lower limit :  2.4834946042563866\n",
      "Graph expansion value, upper limit :  143.24383541573908\n"
     ]
    }
   ],
   "source": [
    "max_degree = max(np.sum(adj_matrix_1, axis = 1))\n",
    "print(\"Graph expansion value, lower limit : \", fiedler_value_1 / 2)\n",
    "print(\"Graph expansion value, upper limit : \",  ((((2 * max_degree) - fiedler_value_1) * fiedler_value_1) ** (1/2)))"
   ]
  },
  {
   "cell_type": "code",
   "execution_count": 7,
   "metadata": {
    "colab": {
     "base_uri": "https://localhost:8080/"
    },
    "id": "QhZEJzFPVqwa",
    "outputId": "ab43f6b7-910a-4c62-b56a-70b19df5a12b"
   },
   "outputs": [
    {
     "name": "stdout",
     "output_type": "stream",
     "text": [
      "Fiedler value :  49.914938148230355\n"
     ]
    }
   ],
   "source": [
    "orig_clusters_2, adj_matrix_2 = planted_partition(5000, 2, 0.8, 0.01)\n",
    "fiedler_value_2, comp_clusters_2 = spectral_clustering(adj_matrix_2)\n",
    "print(\"Fiedler value : \", fiedler_value_2)"
   ]
  },
  {
   "cell_type": "code",
   "execution_count": 8,
   "metadata": {
    "colab": {
     "base_uri": "https://localhost:8080/"
    },
    "id": "HZVA5w_8V0Fy",
    "outputId": "25a01ed9-5719-4dd6-e697-65c3e8ed1318"
   },
   "outputs": [
    {
     "name": "stdout",
     "output_type": "stream",
     "text": [
      "Graph expansion value, lower limit :  24.957469074115178\n",
      "Graph expansion value, upper limit :  454.2604981305926\n"
     ]
    }
   ],
   "source": [
    "max_degree = max(np.sum(adj_matrix_2, axis = 1))\n",
    "print(\"Graph expansion value, lower limit : \", fiedler_value_2 / 2)\n",
    "print(\"Graph expansion value, upper limit : \",  ((((2 * max_degree) - fiedler_value_2) * fiedler_value_2) ** (1/2)))"
   ]
  },
  {
   "cell_type": "code",
   "execution_count": 9,
   "metadata": {
    "colab": {
     "base_uri": "https://localhost:8080/"
    },
    "id": "mLbjlHR_Vqwa",
    "outputId": "ed367f10-47c3-415e-a96c-c578e4f92e47"
   },
   "outputs": [
    {
     "name": "stdout",
     "output_type": "stream",
     "text": [
      "Fiedler value :  499.5152202769697\n"
     ]
    }
   ],
   "source": [
    "orig_clusters_3, adj_matrix_3 = planted_partition(5000, 2, 0.8, 0.1)\n",
    "fiedler_value_3, comp_clusters_3 = spectral_clustering(adj_matrix_3)\n",
    "print(\"Fiedler value : \", fiedler_value_3)"
   ]
  },
  {
   "cell_type": "code",
   "execution_count": 10,
   "metadata": {
    "colab": {
     "base_uri": "https://localhost:8080/"
    },
    "id": "T1MW715aV14x",
    "outputId": "720e59ec-fe54-411d-b15e-e6243576f490"
   },
   "outputs": [
    {
     "name": "stdout",
     "output_type": "stream",
     "text": [
      "Graph expansion value, lower limit :  249.75761013848486\n",
      "Graph expansion value, upper limit :  1445.0660108133015\n"
     ]
    }
   ],
   "source": [
    "max_degree = max(np.sum(adj_matrix_3, axis = 1))\n",
    "print(\"Graph expansion value, lower limit : \", fiedler_value_3 / 2)\n",
    "print(\"Graph expansion value, upper limit : \",  ((((2 * max_degree) - fiedler_value_3) * fiedler_value_3) ** (1/2)))"
   ]
  },
  {
   "cell_type": "code",
   "execution_count": 11,
   "metadata": {
    "colab": {
     "base_uri": "https://localhost:8080/"
    },
    "id": "TUXvKXAUVqwb",
    "outputId": "51771f1c-38d3-44e7-aabb-dd0dc2d13368"
   },
   "outputs": [
    {
     "name": "stdout",
     "output_type": "stream",
     "text": [
      "Fiedler value :  998.5218575597934\n"
     ]
    }
   ],
   "source": [
    "orig_clusters_4, adj_matrix_4 = planted_partition(5000, 2, 0.8, 0.2)\n",
    "fiedler_value_4, comp_clusters_4 = spectral_clustering(adj_matrix_4)\n",
    "print(\"Fiedler value : \", fiedler_value_4)"
   ]
  },
  {
   "cell_type": "code",
   "execution_count": 12,
   "metadata": {
    "colab": {
     "base_uri": "https://localhost:8080/"
    },
    "id": "ZMF59vEqV25E",
    "outputId": "65721e9b-46c1-473c-a380-39e7450a84c9"
   },
   "outputs": [
    {
     "name": "stdout",
     "output_type": "stream",
     "text": [
      "Graph expansion value, lower limit :  499.2609287798967\n",
      "Graph expansion value, upper limit :  2059.902135648472\n"
     ]
    }
   ],
   "source": [
    "max_degree = max(np.sum(adj_matrix_4, axis = 1))\n",
    "print(\"Graph expansion value, lower limit : \", fiedler_value_4 / 2)\n",
    "print(\"Graph expansion value, upper limit : \",  ((((2 * max_degree) - fiedler_value_4) * fiedler_value_4) ** (1/2)))"
   ]
  },
  {
   "cell_type": "code",
   "execution_count": 13,
   "metadata": {
    "colab": {
     "base_uri": "https://localhost:8080/"
    },
    "id": "Ov2oefvNVqwb",
    "outputId": "85f6911e-9661-4a24-8f30-6e81c8535b15"
   },
   "outputs": [
    {
     "name": "stdout",
     "output_type": "stream",
     "text": [
      "Fiedler value :  1497.9805699732835\n"
     ]
    }
   ],
   "source": [
    "orig_clusters_5, adj_matrix_5 = planted_partition(5000, 2, 0.8, 0.3)\n",
    "fiedler_value_5, comp_clusters_5 = spectral_clustering(adj_matrix_5)\n",
    "print(\"Fiedler value : \", fiedler_value_5)"
   ]
  },
  {
   "cell_type": "code",
   "execution_count": 14,
   "metadata": {
    "colab": {
     "base_uri": "https://localhost:8080/"
    },
    "id": "Un_Guc4-V3ss",
    "outputId": "f8a60cdd-55fb-4d54-b460-ba900361231d"
   },
   "outputs": [
    {
     "name": "stdout",
     "output_type": "stream",
     "text": [
      "Graph expansion value, lower limit :  748.9902849866418\n",
      "Graph expansion value, upper limit :  2509.4898728566686\n"
     ]
    }
   ],
   "source": [
    "max_degree = max(np.sum(adj_matrix_5, axis = 1))\n",
    "print(\"Graph expansion value, lower limit : \", fiedler_value_5 / 2)\n",
    "print(\"Graph expansion value, upper limit : \",  ((((2 * max_degree) - fiedler_value_5) * fiedler_value_5) ** (1/2)))"
   ]
  },
  {
   "cell_type": "markdown",
   "metadata": {
    "id": "WZm_2t3QVqwc"
   },
   "source": [
    "### 2.4 Visualization (20 points -- extra credit)\n",
    "\n",
    "Using the networkx package visualize the result of your clusterings and demonstrate through these visualizations that the spectral algorithm works in practice."
   ]
  },
  {
   "cell_type": "markdown",
   "metadata": {},
   "source": [
    "**Toy Example :**"
   ]
  },
  {
   "cell_type": "code",
   "execution_count": 40,
   "metadata": {
    "id": "uYtGpy7QVqwc"
   },
   "outputs": [],
   "source": [
    "clusters, adj_matrix = planted_partition(10, 2, 1.0, 0.1)"
   ]
  },
  {
   "cell_type": "code",
   "execution_count": 41,
   "metadata": {
    "colab": {
     "base_uri": "https://localhost:8080/"
    },
    "id": "OvUrbU70V50H",
    "outputId": "ebee2f0c-3b61-430c-ca59-75ffc5a2e978"
   },
   "outputs": [
    {
     "name": "stdout",
     "output_type": "stream",
     "text": [
      "Clustering found :\n",
      "[[2, 3, 4, 5, 7], [0, 1, 6, 8, 9]]\n"
     ]
    }
   ],
   "source": [
    "print(\"Clustering found :\")\n",
    "fiedler_value, clusters = spectral_clustering(adj_matrix)\n",
    "print(clusters)"
   ]
  },
  {
   "cell_type": "code",
   "execution_count": 42,
   "metadata": {
    "colab": {
     "base_uri": "https://localhost:8080/",
     "height": 319
    },
    "id": "fNiKiejcV8BF",
    "outputId": "ed88fc18-13d1-4874-e73f-879bd488fa22"
   },
   "outputs": [
    {
     "data": {
      "image/png": "[encoded data removed]",
      "text/plain": [
       "<Figure size 432x288 with 1 Axes>"
      ]
     },
     "metadata": {},
     "output_type": "display_data"
    }
   ],
   "source": [
    "import networkx as nx\n",
    "import matplotlib.pyplot as plt\n",
    "\n",
    "G = nx.from_numpy_matrix(adj_matrix, parallel_edges=False, create_using=None)\n",
    "nx.draw(G)\n",
    "plt.draw()"
   ]
  },
  {
   "cell_type": "code",
   "execution_count": 18,
   "metadata": {
    "colab": {
     "base_uri": "https://localhost:8080/",
     "height": 319
    },
    "id": "vaw5LKWbdvlt",
    "outputId": "326e5f0a-ac6c-400f-c0ac-7ee185d4d5de"
   },
   "outputs": [
    {
     "data": {
      "image/png": "[encoded data removed]",
      "text/plain": [
       "<Figure size 432x288 with 1 Axes>"
      ]
     },
     "metadata": {},
     "output_type": "display_data"
    }
   ],
   "source": [
    "# n = 5000, k = 2, p = 0.8, q = 0.001\n",
    "G = nx.from_numpy_matrix(adj_matrix_1, parallel_edges=False, create_using=None)\n",
    "nx.draw(G)\n",
    "plt.draw()"
   ]
  },
  {
   "cell_type": "code",
   "execution_count": 19,
   "metadata": {
    "colab": {
     "base_uri": "https://localhost:8080/",
     "height": 319
    },
    "id": "Py_IfCofdnYM",
    "outputId": "07ec7c4f-0ce5-4c13-d062-5f715b08fa89"
   },
   "outputs": [
    {
     "data": {
      "image/png": "[encoded data removed]",
      "text/plain": [
       "<Figure size 432x288 with 1 Axes>"
      ]
     },
     "metadata": {},
     "output_type": "display_data"
    }
   ],
   "source": [
    "# n = 5000, k = 2, p = 0.8, q = 0.01\n",
    "G = nx.from_numpy_matrix(adj_matrix_2, parallel_edges=False, create_using=None)\n",
    "nx.draw(G)\n",
    "plt.draw()"
   ]
  },
  {
   "cell_type": "code",
   "execution_count": 20,
   "metadata": {
    "colab": {
     "base_uri": "https://localhost:8080/",
     "height": 319
    },
    "id": "wZVfsGOWa8SR",
    "outputId": "6f543688-8ee1-4e5c-d380-683e3f1abd07"
   },
   "outputs": [
    {
     "data": {
      "image/png": "[encoded data removed]",
      "text/plain": [
       "<Figure size 432x288 with 1 Axes>"
      ]
     },
     "metadata": {},
     "output_type": "display_data"
    }
   ],
   "source": [
    "# n = 5000, k = 2, p = 0.8, q = 0.1\n",
    "G = nx.from_numpy_matrix(adj_matrix_3, parallel_edges=False, create_using=None)\n",
    "nx.draw(G)\n",
    "plt.draw()"
   ]
  },
  {
   "cell_type": "code",
   "execution_count": 21,
   "metadata": {
    "colab": {
     "base_uri": "https://localhost:8080/",
     "height": 319
    },
    "id": "Ak-8EzW2dyXK",
    "outputId": "f483b33a-61d5-48a8-825b-b02ded392aa5"
   },
   "outputs": [
    {
     "data": {
      "image/png": "[encoded data removed]",
      "text/plain": [
       "<Figure size 432x288 with 1 Axes>"
      ]
     },
     "metadata": {},
     "output_type": "display_data"
    }
   ],
   "source": [
    "# n = 5000, k = 2, p = 0.8, q = 0.2\n",
    "G = nx.from_numpy_matrix(adj_matrix_4, parallel_edges=False, create_using=None)\n",
    "nx.draw(G)\n",
    "plt.draw()"
   ]
  },
  {
   "cell_type": "code",
   "execution_count": 22,
   "metadata": {
    "colab": {
     "base_uri": "https://localhost:8080/",
     "height": 319
    },
    "id": "2OPoFoGldyhs",
    "outputId": "fc197cdb-b7df-4137-eb1b-d8133be221b1"
   },
   "outputs": [
    {
     "data": {
      "image/png": "[encoded data removed]",
      "text/plain": [
       "<Figure size 432x288 with 1 Axes>"
      ]
     },
     "metadata": {},
     "output_type": "display_data"
    }
   ],
   "source": [
    "# n = 5000, k = 2, p = 0.8, q = 0.3\n",
    "G = nx.from_numpy_matrix(adj_matrix_5, parallel_edges=False, create_using=None)\n",
    "nx.draw(G)\n",
    "plt.draw()"
   ]
  },
  {
   "cell_type": "markdown",
   "metadata": {},
   "source": [
    "From the graphs drawn above, it can be clearly seen that the spectral algorithm works in practice (i.e.) When  the graphs with highly dense connected components and almost negligible edges between components are projected into a two dimensional space, the components are clearly separated from each other while as the number of edges between the connected components increase, the boundaries are not so clearly defined anymore and the clusters start mergeing together."
   ]
  }
 ],
 "metadata": {
  "colab": {
   "collapsed_sections": [],
   "name": "homework5.ipynb",
   "provenance": []
  },
  "kernelspec": {
   "display_name": "Python 3 (ipykernel)",
   "language": "python",
   "name": "python3"
  },
  "language_info": {
   "codemirror_mode": {
    "name": "ipython",
    "version": 3
   },
   "file_extension": ".py",
   "mimetype": "text/x-python",
   "name": "python",
   "nbconvert_exporter": "python",
   "pygments_lexer": "ipython3",
   "version": "3.7.4"
  }
 },
 "nbformat": 4,
 "nbformat_minor": 1
}
