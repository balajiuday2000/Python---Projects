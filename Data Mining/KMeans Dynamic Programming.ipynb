{
 "cells": [
  {
   "cell_type": "markdown",
   "metadata": {
    "id": "kt1JHDsr4dHs"
   },
   "source": [
    "# <center> **CS 565, Spring 2022, Homework 1**\n",
    "### <center> Due **Tues March 1, 11:59 pm ET (Boston time)**, via Gradescope\n",
    "\n",
    "\n"
   ]
  },
  {
   "cell_type": "markdown",
   "metadata": {
    "id": "6MSiDOUbDbuv"
   },
   "source": [
    "###**Submission guidelines** \n",
    "Please write your solutions inside of this .ipynb file, then convert it to a PDF before submitting on Gradescope:\n",
    "\n",
    "*   **In Jupyter:** File > Download as > PDF\n",
    "*   **In Google Colab:** File > Print > Destination > Save as PDF\n",
    "\n",
    "When you submit, please **be sure to match the answers on your PDF to the outline on Gradescope.** In other words, if the answer to problem 2.1 is on pages 2 and 3 of your PDF, please be sure to select those pages as the answer to problem 2.1 on Gradescope. Since it takes significantly longer to grade homework that is not properly matched, **we may deduct points** for noncompliant submissions.\n",
    "\n",
    "Andrew (the TF) will cover how to get started with the notebooks for writing problem solutions and running experiments. \n",
    "\n",
    "<div style=\"page-break-after: always;\"></div>"
   ]
  },
  {
   "cell_type": "markdown",
   "metadata": {
    "id": "dX6hIxhG53tC"
   },
   "source": [
    "## 1. 1-d clustering (20 points) \n",
    "\n",
    "Consider a set of $n$ $1$-dimensional points $X = \\{x_1,\\ldots , x_n\\}$. Assume you want to partition them into $k$ clusters $C_1,C_2,\\ldots , C_k$ (where\n",
    "$k$ is part of the input) such that you **minimize** the following objective:\n",
    "\n",
    "$$\n",
    "F(C_1,\\ldots , C_k) = \\sum_{\\ell = 1,\\ldots , k}R(C_\\ell),\n",
    "$$\n",
    "where for every cluster $C_\\ell$\n",
    "$$\n",
    "R(C_\\ell) = r_{\\ell}^{\\max} - r_\\ell^{\\min},\n",
    "$$\n",
    "and $r_{\\ell}^{\\max}=\\arg\\max_{x_i\\in C_\\ell} x_i$\n",
    "and $r_{\\ell}^{\\min}=\\arg\\min_{x_i\\in C_\\ell} x_i$.\n",
    "\n",
    "\n",
    "Design a polynomial-time algorithm that finds the optimal clustering in linear time."
   ]
  },
  {
   "cell_type": "markdown",
   "metadata": {
    "id": "aSBmL-SwGx1O"
   },
   "source": [
    "**Solution:**\n",
    "Split the data at k-1 biggest gaps(distance between two consecutive data points).\n",
    "\n",
    "**Algorithm:**\n",
    "1. Find the distance between every two consecutive points.\n",
    "2. Split the datapoints at k-1 biggest distances between 2 consecutive points.\n",
    "\n",
    "**Proof:**\n",
    "Splitting the data points at the biggest gaps will ensure that these gaps do not contribute to the cost of the clustering. <br>\n",
    "The individual distances between every consecutive point in every cluster will always be lesser than any of the gaps thereby leading to minimum possible diameters across all clusters. <br>\n",
    "The clusters can be computed in linear time since we look through the 'n' data points once to compute 'n-1' consecutive distances and find 'k-1' largest values. "
   ]
  },
  {
   "cell_type": "markdown",
   "metadata": {},
   "source": [
    "## 2. Implementation\n",
    "\n",
    "\n",
    "In this question you will implement 1-dim KMeans (which can be solved optimally in polynomial time), and k-dim KMeans (which cannot be solved optimially in polynomial time).\n"
   ]
  },
  {
   "cell_type": "markdown",
   "metadata": {},
   "source": [
    "### 2.1 The Data\n",
    "\n",
    "We have provided a dataset on piazza in the file calleds \"ml-25m.zip\". Please download this file. We only need the file \"ratings.csv\" from it. A description of what is in ratings.csv can be found here: https://files.grouplens.org/datasets/movielens/ml-25m-README.html\n",
    "\n",
    "Write code that loads ratings.csv into memory. We will want to use the following procedure in order to process the text data correctly:\n",
    "\n",
    "1) read in the csv file\n",
    "\n",
    "2) tokenize the \"tag\" attribute (3rd attribute) so that each the words are separated by whitespace and are all converted to lowercase. I recommend using nltk for this. I also recommend saving this data to disk so you don't have to re-run this step again (and can instead just re-load in the saved data).\n",
    "\n",
    "3) compute a vocabulary of all words seen in the file (from the tokenized \"tag\" attributes). The vocabulary should be a set. Write the vocabulary to disk (again so you dont have to redo this step). Feel free to truncate the vocabulary to remove rare words.\n",
    "\n",
    "4) convert the text data to a bag of words representation. To do this, construct a matrix, one row per (unique) movie. Each column should be a separate word that appears in the vocabulary you created earlier. The value at movie r and word w should contain the number of times word w appeared in a \"tag\" for movie r. Save this matrix (and a file containing which movies correspond to which row) to disk."
   ]
  },
  {
   "cell_type": "code",
   "execution_count": 2,
   "metadata": {},
   "outputs": [
    {
     "name": "stderr",
     "output_type": "stream",
     "text": [
      "C:\\Users\\balaj\\Anaconda3\\lib\\site-packages\\scipy\\sparse\\_index.py:82: SparseEfficiencyWarning: Changing the sparsity structure of a csr_matrix is expensive. lil_matrix is more efficient.\n",
      "  self._set_intXint(row, col, x.flat[0])\n"
     ]
    }
   ],
   "source": [
    "import numpy as np\n",
    "import pandas as pd\n",
    "from nltk.tokenize import word_tokenize\n",
    "from nltk.corpus import stopwords\n",
    "from collections import Counter\n",
    "from scipy.sparse import csr_matrix\n",
    "from numpy import savetxt\n",
    "\n",
    "# Function to remove words which appear less than k times  \n",
    "def removeElements(lst, k):\n",
    "    count = Counter(lst)\n",
    "    return [element for element in lst if count[element] >= k]\n",
    "\n",
    "# Read the csv into a dataframe\n",
    "df = pd.read_csv(\"tags.csv\") \n",
    "\n",
    "# Concatenate the tags as a string\n",
    "string = \" \".join(df['tag'].astype(str)).lower()\n",
    "\n",
    "# Tokenize the string\n",
    "tokens = word_tokenize(string)\n",
    "\n",
    "# Remove stop words from the tokens\n",
    "stopWords = list(stopwords.words('english'))\n",
    "tokensWithoutSw = [word for word in tokens if not word in stopWords]\n",
    "\n",
    "# Remove words which appear less than 200 times\n",
    "vocabulary = set(removeElements(tokensWithoutSw,200))\n",
    "\n",
    "# Create sparse matrix for bag of words\n",
    "sparseMatrix = csr_matrix((df['movieId'].nunique(), len(vocabulary)), dtype = np.int8)\n",
    "\n",
    "# Get list of movies\n",
    "movies = df['movieId'].unique().tolist()\n",
    "rows = {}\n",
    "columns = {}\n",
    "\n",
    "# To keep track of each row and column in the bag of words\n",
    "for i in range(df['movieId'].nunique()):\n",
    "    rows[movies[i]] = i\n",
    "for i in range(len(vocabulary)):\n",
    "    columns[list(vocabulary)[i]] = i\n",
    "\n",
    "# Function to compute the bag of words\n",
    "def updateMatrix(tags, ID):\n",
    "    \n",
    "    tag_list = tags.split()\n",
    "    unique_words = set(tag_list)\n",
    "    for word in unique_words:\n",
    "        if word in vocabulary :\n",
    "            sparseMatrix[rows[ID], columns[word]] = tag_list.count(word) # Count number of times a word appears\n",
    "\n",
    "\n",
    "for ID in list(df['movieId'].unique()):\n",
    "    l = df.loc[df['movieId'] == ID, 'tag'].values # Get all tags for a movie\n",
    "    cl = [x for x in l if str(x) != 'nan'] # Remove null values if present\n",
    "    tags = \" \".join(cl).lower()\n",
    "    updateMatrix(tags, ID)\n",
    "    \n",
    "bagOfWords = sparseMatrix.toarray()"
   ]
  },
  {
   "cell_type": "code",
   "execution_count": 6,
   "metadata": {},
   "outputs": [],
   "source": [
    "bow = bagOfWords[:,~np.all(bagOfWords == 0, axis = 0)]\n",
    "np.save('bagOfWords.npy', bow)"
   ]
  },
  {
   "cell_type": "markdown",
   "metadata": {},
   "source": [
    "### 2.2 KMeans (20 points)\n",
    "\n",
    "Implement the KMeans algorithm for a generalized $k$. Complete the following code:"
   ]
  },
  {
   "cell_type": "code",
   "execution_count": 8,
   "metadata": {},
   "outputs": [],
   "source": [
    "import random\n",
    "import sys\n",
    "\n",
    "class KMeans(object):\n",
    "    def __init__(self, k: int, init_method: str) -> None:\n",
    "        \n",
    "        self.k: int = int(k)\n",
    "        self.init_method: str = str(init_method).lower()\n",
    "\n",
    "        if self.init_method not in {\"random\", \"kmeans++\"}:\n",
    "            raise Exception(\"ERROR: unknown init method. Must be one of {random, kmeans++}\")\n",
    "        \n",
    "        # Initialize centers\n",
    "        self.centers: np.ndarray = None\n",
    "        # Initialize cluster assignments\n",
    "        self.cluster_assignments : np.darray = None \n",
    "    \n",
    "    \n",
    "    # Function to calculate distance for kmeans++\n",
    "    def distance(self, dataPt1, dataPt2) -> float:\n",
    "        return np.sum((dataPt1 - dataPt2) ** 2)\n",
    "        \n",
    "            \n",
    "    def lazy_init(self, X: np.ndarray) -> None:\n",
    "        \n",
    "        n, d = X.shape\n",
    "        self.centers: np.ndarray = np.empty((self.k, d)) \n",
    "        self.cluster_assignments = np.empty(n, )\n",
    "        \n",
    "        if self.init_method == \"random\":\n",
    "            \n",
    "            ind = random.sample(range(0, n-1), self.k) # Assign random data points as centers\n",
    "            for i in range(self.k):\n",
    "                self.centers[i] = X[ind[i]]\n",
    "                \n",
    "        elif self.init_method == \"kmeans++\":\n",
    "    \n",
    "            centers = []\n",
    "            centers.append(X[np.random.randint(n), :]) # Find one random center\n",
    "            \n",
    "            for cId in range(self.k - 1):\n",
    "                dist = []\n",
    "                for i in range(n):\n",
    "                    dataPt = X[i, :]\n",
    "                    d = sys.maxsize\n",
    "             \n",
    "                    for j in range(len(centers)):\n",
    "                        temp_dist = self.distance(dataPt1 = dataPt, dataPt2 = centers[j])\n",
    "                        #For each data point compute its distance from the nearest, previously chosen centroid.\n",
    "                        d = min(d, temp_dist) \n",
    "                    dist.append(d)\n",
    "             \n",
    "        \n",
    "                dist = np.array(dist)\n",
    "                \"\"\"Select the next centroid from the data points such that the probability of choosing a point as \n",
    "                   centroid is directly proportional to its distance from the nearest, previously chosen centroid.\"\"\"\n",
    "                next_center = X[np.argmax(dist), :] \n",
    "                centers.append(next_center)\n",
    "            \n",
    "            self.centers = np.array(centers)\n",
    "                \n",
    "                \n",
    "    def assign(self, X: np.ndarray) -> np.ndarray:\n",
    "        return np.argmin(np.hstack([((X - c.reshape(1,-1))**2).sum(axis=1, keepdims=True)\n",
    "                                    for c in self.centers]), axis=1)\n",
    "\n",
    "    \n",
    "    def cost(self, X: np.ndarray) -> float:\n",
    "        self.cluster_assignments = self.assign(X = X)\n",
    "        return sum([((X[self.cluster_assignments==i] - c)**2).sum()\n",
    "                    for i,c in enumerate(self.centers)])\n",
    "\n",
    "    \n",
    "    def train_one_iter(self, X: np.ndarray) -> None:\n",
    "        \n",
    "        self.cluster_assignments = self.assign(X = X) # Assign data points to clusters\n",
    "        for i in range(self.k):\n",
    "            self.centers[i] = np.mean(X[self.cluster_assignments == i], axis = 0) # Find the mean of clusters\n",
    "        self.cluster_assignments: np.ndarray = self.assign(X) # Reassign data points\n",
    "            \n",
    "                \n",
    "    def train(self, X: np.ndarray,\n",
    "                    max_iter: int,\n",
    "                    epsilon: float = 1e-6) -> None:\n",
    "\n",
    "        if self.centers is None:\n",
    "            self.lazy_init(X)\n",
    "\n",
    "        current_iter: int = 0\n",
    "        prev_cost: float = 1e-12\n",
    "\n",
    "        # train until you give up or you converge\n",
    "        cost_percent_relative_error: float = np.inf\n",
    "        while current_iter < max_iter and cost_percent_relative_error > epsilon:\n",
    "            self.train_one_iter(X = X)\n",
    "\n",
    "            current_cost: float = self.cost(X)\n",
    "            cost_percent_relative_error = abs(current_cost-prev_cost)/abs(prev_cost)\n",
    "\n",
    "            prev_cost = current_cost\n",
    "            current_iter += 1"
   ]
  },
  {
   "cell_type": "markdown",
   "metadata": {},
   "source": [
    "### 2.3 Test Your Implementation (20 points)\n",
    "\n",
    "Use your implementation on the data we loaded in part 2.1. Use your trained model to produce cluster assignments for each movie. Find the value of $k$ that is best for the data and justify your choice (i.e. plot the final cost as a function of $k$). What kind of clusters do you get? Please include a visualization or description of your clusters."
   ]
  },
  {
   "cell_type": "code",
   "execution_count": 74,
   "metadata": {},
   "outputs": [],
   "source": [
    "costs = []\n",
    "K = range(1, 50)\n",
    "\n",
    "for k in K:\n",
    "    kmeans = KMeans(k = k, init_method = \"kmeans++\")\n",
    "    kmeans.train(X = bow, max_iter = 1000000)\n",
    "    costs.append(kmeans.cost(X = bow))"
   ]
  },
  {
   "cell_type": "code",
   "execution_count": 31,
   "metadata": {},
   "outputs": [
    {
     "data": {
      "image/png": "[encoded data removed]",
      "text/plain": [
       "<Figure size 720x360 with 1 Axes>"
      ]
     },
     "metadata": {
      "needs_background": "light"
     },
     "output_type": "display_data"
    }
   ],
   "source": [
    "import matplotlib.pyplot as plt\n",
    "\n",
    "# Plotting the costs\n",
    "plt.figure(figsize=(10,5))\n",
    "plt.plot(K, costs, 'rx-')\n",
    "plt.xlabel('No of clusters')\n",
    "plt.ylabel('Cost')\n",
    "plt.show()"
   ]
  },
  {
   "cell_type": "markdown",
   "metadata": {},
   "source": [
    "The cost is seen to decrease continuously as the number of clusters increases and kind of saturates after k = 46. So, 48 is chosen as the optimal number of clusters."
   ]
  },
  {
   "cell_type": "code",
   "execution_count": 65,
   "metadata": {},
   "outputs": [
    {
     "data": {
      "text/plain": [
       "<matplotlib.collections.PathCollection at 0x210a974ff88>"
      ]
     },
     "execution_count": 65,
     "metadata": {},
     "output_type": "execute_result"
    },
    {
     "data": {
      "image/png": "[encoded data removed]",
      "text/plain": [
       "<Figure size 576x432 with 1 Axes>"
      ]
     },
     "metadata": {
      "needs_background": "light"
     },
     "output_type": "display_data"
    }
   ],
   "source": [
    "from sklearn.decomposition import PCA\n",
    "import matplotlib.pyplot as plt\n",
    "\n",
    "kmeans = KMeans(k = 48, init_method = \"kmeans++\")\n",
    "kmeans.train(X = bow, max_iter = 1000000)\n",
    "\n",
    "#Reducing datapoints to 2D and plotting the clusters\n",
    "bow2D = PCA(n_components = 2).fit_transform(bow)\n",
    "plt.figure(figsize=(8, 6))\n",
    "plt.scatter(bow2D[:,0], bow2D[:,1], c = kmeans.cluster_assignments.astype(float))"
   ]
  },
  {
   "cell_type": "markdown",
   "metadata": {},
   "source": [
    "### 2.4 1D KMeans (20 points)\n",
    "\n",
    "Please implement 1D KMeans using the dynamic-programming solution discussed in class. Your code should mimic the code above (however be fit to being 1d)."
   ]
  },
  {
   "cell_type": "code",
   "execution_count": 35,
   "metadata": {},
   "outputs": [],
   "source": [
    "import sys\n",
    "import numpy as np\n",
    "\n",
    "class OneDimKMeans(object):\n",
    "    def __init__(self, k: int) -> None:\n",
    "        self.k: int = int(k)\n",
    "        self.D = None # Cost matrix\n",
    "        self.B = None # Choice matrix\n",
    "        self.centers = None\n",
    "        self.splits = None # To track where splits occur\n",
    "        self.cluster_assignments = None # Track cluster assignments\n",
    "\n",
    "    def assign(self, X: np.ndarray, splits) -> None:\n",
    "        self.cluster_assignments = []\n",
    "        assignment = 0\n",
    "        for i in range(X.shape[0]):\n",
    "            self.cluster_assignments.append(assignment) # Assign clusters based on splits\n",
    "            if(i in splits):\n",
    "                assignment += 1\n",
    "    \n",
    "    def centers(self, X: np.ndarray, splits) -> None:\n",
    "        self.centers: np.ndarray = np.empty((self.k))\n",
    "        start = 0\n",
    "        for i in range(self.k - 1):\n",
    "            self.centers[i] = np.mean(X[start:splits[i] + 1]) # Assign mean of the clusters as centres\n",
    "            start = splits[i] + 1\n",
    "        self.centers[k] = np.mean(X[start:])\n",
    "        \n",
    "    \n",
    "    def unit(self, X : np.ndarray) -> float:\n",
    "        return sum([((X[i] - np.mean(X))**2) for i in range(X.shape[0])])\n",
    "    \n",
    "\n",
    "\n",
    "    def train(self, X: np.ndarray) -> None:\n",
    "        \n",
    "        self.D = np.zeros((X.shape[0], self.k))\n",
    "        self.B = np.full((X.shape[0], self.k), -1)\n",
    "        \n",
    "        for i in range(X.shape[0]):\n",
    "            self.D[i,0] = self.unit(X[0:i+1]) # Initialize first column (when the number of clusters is 1)\n",
    "        \n",
    "        for col in range(1, self.k):\n",
    "            for row in range(col + 1, X.shape[0]):\n",
    "                self.D[row, col] = sys.float_info.max\n",
    "            for row in range(col + 1, X.shape[0]):\n",
    "                for row_ind in range(row):\n",
    "                    if self.D[row, col] > self.D[row_ind, col - 1] + self.unit(X[row_ind + 1:row + 1]):\n",
    "                        self.D[row, col] = self.D[row_ind, col - 1] + self.unit(X[row_ind + 1:row + 1]) # Set to minimum cost\n",
    "                        self.B[row, col] = row_ind # Store choice\n",
    "                    \n",
    "        ind = self.B[X.shape[0]-1, self.k-1] # The last split is at B[n,k]\n",
    "        self.splits = []\n",
    "        self.splits.append(self.B[X.shape[0]-1, self.k-1])\n",
    "        for col in range(self.k - 2, 0, -1):\n",
    "            self.splits.append(self.B[ind, self.k-2]) # Find all splits\n",
    "            ind = self.B[ind, self.k-2]\n",
    "            \n",
    "        self.assign(X, self.splits)"
   ]
  },
  {
   "cell_type": "markdown",
   "metadata": {},
   "source": [
    "### 2.5 Test Your Implementation (20 points)\n",
    "\n",
    "Use PCA to reduce the data from section 2.1 into 1D, and use your 1D Kmeans implementation to produce cluster assignments using the same value of $k$ as from 2.3. If we let $C_0$ be the kmeans++ cluster assignments from 2.3, and let $C_1$ be the cluster assignments from your 1D Kmeans, we can compute the *disagreement* between the two clustering algorithms as, for any two movies $x$, and $y$:\n",
    "\n",
    "$$I_{C_0, C_1}(x,y) = \\begin{cases}\n",
    "1 & \\text{if } C_0(x) = C_0(y) \\text{ and } C_1(x) \\neq C_1(y)\\\\\n",
    "  & \\text{or } C_0(x) \\neq C_0(y) \\text{ and } C_1(x) = C_1(y)\\\\\\\\\n",
    "0 & \\text{otherwise}\n",
    "\\end{cases}$$\n",
    "\n",
    "Compute the disagreement between the two clustering algorithms as $D(C_0, C_1) = \\sum\\limits_{x,y} I_{C_0,C_1}(x,y)$. What is the disagreement?"
   ]
  },
  {
   "cell_type": "code",
   "execution_count": 40,
   "metadata": {},
   "outputs": [
    {
     "name": "stdout",
     "output_type": "stream",
     "text": [
      "Disagreement distance = 153570581\n"
     ]
    }
   ],
   "source": [
    "# Reducing datapoints to 1D\n",
    "bow1D = PCA(n_components = 1).fit_transform(bow)\n",
    "sort_index = np.argsort(bow1D)\n",
    "bow1D = np.sort(bow1D)\n",
    "kmeans1D = OneDimKMeans(k = 48)\n",
    "kmeans1D.train(X = bow1D)\n",
    "\n",
    "actualAssignments = np.empty((X.shape))\n",
    "for i in range(bow1D.shape[0]):\n",
    "    actualAssignments[sort_index[i]] = kmeans1D.cluster_assignments[i] # To assign clusters to data points before sorting\n",
    "\n",
    "\n",
    "# Calculate disagreement distance\n",
    "distance = 0\n",
    "for i in range(kmeans.cluster_assignments.shape[0]):\n",
    "    for j in range(i+1, len(kmeans.cluster_assignments.shape[0])):\n",
    "        if kmeans.cluster_assignments[i] == kmeans.cluster_assignments[j] and actualAssignments[i] != actualAssignments[j]: # If nD and 1D point clusters disagree\n",
    "            distance += 1\n",
    "        elif kmeans.cluster_assignments[i] != kmeans.cluster_assignments[j] and actualAssignments[i] == actualAssignments[j]: # If nD and 1D point clusters disagree \n",
    "            distance += 1\n",
    "\n",
    "print(\"Disagreement distance = \", distance)"
   ]
  }
 ],
 "metadata": {
  "colab": {
   "collapsed_sections": [],
   "name": "homework1.ipynb",
   "provenance": []
  },
  "kernelspec": {
   "display_name": "Python 3 (ipykernel)",
   "language": "python",
   "name": "python3"
  },
  "language_info": {
   "codemirror_mode": {
    "name": "ipython",
    "version": 3
   },
   "file_extension": ".py",
   "mimetype": "text/x-python",
   "name": "python",
   "nbconvert_exporter": "python",
   "pygments_lexer": "ipython3",
   "version": "3.7.4"
  }
 },
 "nbformat": 4,
 "nbformat_minor": 1
}
