{
 "cells": [
  {
   "cell_type": "markdown",
   "metadata": {},
   "source": [
    "This exercise will be using the [Airbnb dataset](http://insideairbnb.com/get-the-data.html) for NYC called `listings.csv`. You can download it directly [here](http://data.insideairbnb.com/united-states/ny/new-york-city/2021-11-02/visualisations/listings.csv)\n",
    "\n",
    "a) Produce a Heatmap using the Folium package (you can install it using pip) of the mean listing price per location (lattitude and longitude) over the NYC map. (5 points)\n",
    "\n",
    "Hints:\n",
    "1. generate a base map of NYC to plot over: default_location=[40.693943, -73.985880] \n",
    "2. generate an HTML file named `index.html` - open it in your browser and you'll see the heatmap "
   ]
  },
  {
   "cell_type": "code",
   "execution_count": 1,
   "metadata": {
    "ExecuteTime": {
     "end_time": "2022-02-22T01:04:48.524057Z",
     "start_time": "2022-02-22T01:04:46.153447Z"
    },
    "scrolled": true
   },
   "outputs": [],
   "source": [
    "import pandas as pd\n",
    "import folium\n",
    "from folium.plugins import HeatMap\n",
    "\n",
    "df = pd.read_csv(\"listings.csv\", low_memory = False)\n",
    "# Get mean price per location\n",
    "heatData = df[['latitude', 'longitude', 'price']].groupby(['latitude', 'longitude']).mean().reset_index().values.tolist()\n",
    "heatData\n",
    "\n",
    "NYCmap = folium.Map(location=[40.693943, -73.985880])\n",
    "HeatMap(heatData).add_to(NYCmap)\n",
    "NYCmap.save(\"index.html\")"
   ]
  },
  {
   "cell_type": "markdown",
   "metadata": {},
   "source": [
    "b) Normalize the price by subtracting the mean and dividing by the standard deviation. Then reproduce the heatmap from a). Comment on any differences you observe. "
   ]
  },
  {
   "cell_type": "code",
   "execution_count": 2,
   "metadata": {
    "ExecuteTime": {
     "end_time": "2022-02-22T01:04:49.157247Z",
     "start_time": "2022-02-22T01:04:48.527982Z"
    }
   },
   "outputs": [],
   "source": [
    "df1 = df[['latitude', 'longitude', 'price']].copy()\n",
    "df1['price'] = df1['price'] - df1['price'].mean() / df1['price'].std()\n",
    "# Get mean price per location\n",
    "heatData = df1.groupby(['latitude', 'longitude']).mean().reset_index().values.tolist()\n",
    "\n",
    "NYCmap = folium.Map(location=[40.693943, -73.985880])\n",
    "HeatMap(heatData).add_to(NYCmap)\n",
    "NYCmap.save(\"index1.html\")"
   ]
  },
  {
   "cell_type": "markdown",
   "metadata": {},
   "source": [
    "Subtle differences acn be noted between the two maps. The edges of the heatmap are more defined after normalization. In many parts of the map, changes in the shape of the extremely red areas can be seen ( with interluding orange and green areas) since the orange and green areas are more clearly defined now."
   ]
  },
  {
   "cell_type": "markdown",
   "metadata": {},
   "source": [
    "c) Normalize the original price using sklearn's [MinMaxScaler](https://scikit-learn.org/stable/modules/generated/sklearn.preprocessing.MinMaxScaler.html) to the interval [0,1]. Then reproduce the Heatmap from a). Comment on any differences you observe.  "
   ]
  },
  {
   "cell_type": "code",
   "execution_count": 3,
   "metadata": {
    "ExecuteTime": {
     "end_time": "2022-02-22T01:04:50.344440Z",
     "start_time": "2022-02-22T01:04:49.160157Z"
    }
   },
   "outputs": [],
   "source": [
    "from sklearn.preprocessing import MinMaxScaler\n",
    "\n",
    "df2 = df[['latitude', 'longitude', 'price']].copy()\n",
    "min_max_scaler = MinMaxScaler()\n",
    "df2[['price']] = min_max_scaler.fit_transform(df2[['price']]) # Apply MinMaxScaler to price\n",
    "# Get mean price per location\n",
    "heatData = df2.groupby(['latitude', 'longitude']).mean().reset_index().values.tolist()\n",
    "\n",
    "NYCmap = folium.Map(location=[40.693943, -73.985880])\n",
    "HeatMap(heatData).add_to(NYCmap)\n",
    "NYCmap.save(\"index2.html\")"
   ]
  },
  {
   "cell_type": "markdown",
   "metadata": {},
   "source": [
    "Here too, the edges of the heat map have become well defined. When the map is extremely zoomed in, the individual blobs of heat are more defined with clearer edges. The distinctions between the red, yellow and green areas can be clearly noted."
   ]
  },
  {
   "cell_type": "markdown",
   "metadata": {},
   "source": [
    "d) Plot a bar chart of the average price (un-normalized) per room type. Briefly comment on the relation between price and room type. "
   ]
  },
  {
   "cell_type": "code",
   "execution_count": 4,
   "metadata": {
    "ExecuteTime": {
     "end_time": "2022-02-22T01:04:50.614404Z",
     "start_time": "2022-02-22T01:04:50.348387Z"
    }
   },
   "outputs": [
    {
     "data": {
      "image/png": "[encoded data removed]",
      "text/plain": [
       "<Figure size 432x288 with 1 Axes>"
      ]
     },
     "metadata": {
      "needs_background": "light"
     },
     "output_type": "display_data"
    }
   ],
   "source": [
    "import matplotlib.pyplot as plt\n",
    "%matplotlib inline\n",
    "\n",
    "# Group by Room Type and find average price\n",
    "plt.bar(df.groupby('room_type').price.mean().index, df.groupby('room_type').price.mean().to_list(), color ='red', width = 0.4)\n",
    "plt.xlabel(\"Room Type\")\n",
    "plt.ylabel(\"Average Price\")\n",
    "plt.title(\"Average Price per Room Type\")\n",
    "plt.show()"
   ]
  },
  {
   "cell_type": "markdown",
   "metadata": {},
   "source": [
    "As expected, hotel rooms in NYC are seen to be the most expensive at an average price of 312, followed with a huge margin of difference by entire homes/apartments at 217. Shared and private rooms are comparatively cheaper at 129 and 102 respectively."
   ]
  },
  {
   "cell_type": "markdown",
   "metadata": {},
   "source": [
    "e) Plot on the NYC map the top 10 most expensive listings "
   ]
  },
  {
   "cell_type": "code",
   "execution_count": 5,
   "metadata": {
    "ExecuteTime": {
     "end_time": "2022-02-22T01:04:50.692103Z",
     "start_time": "2022-02-22T01:04:50.615954Z"
    }
   },
   "outputs": [],
   "source": [
    "# Sort price by descending order, drop duplicate locations to get unique markers and get first ten values\n",
    "df3 = df.sort_values(by=['price'],ascending=False).drop_duplicates(['latitude', 'longitude']).head(10)[['latitude', 'longitude', 'name', 'price']]\n",
    "locations = df3[['latitude', 'longitude']].values.tolist()\n",
    "names = df3['name'].to_list()\n",
    "\n",
    "NYCmap = folium.Map(location=[40.693943, -73.985880])\n",
    "for location,name in zip(locations, names):\n",
    "    folium.Marker(location, popup = name).add_to(NYCmap)\n",
    "NYCmap.save(\"10expensive.html\")"
   ]
  },
  {
   "cell_type": "markdown",
   "metadata": {},
   "source": [
    "f) Plot on the NYC map the top 10 most reviewed listings \n"
   ]
  },
  {
   "cell_type": "code",
   "execution_count": 6,
   "metadata": {
    "ExecuteTime": {
     "end_time": "2022-02-22T01:04:50.738616Z",
     "start_time": "2022-02-22T01:04:50.694095Z"
    }
   },
   "outputs": [],
   "source": [
    "# Sort Number of reviews by descending order, drop duplicate locations to get unique markers and get first ten values\n",
    "df4 = df.sort_values(by=['number_of_reviews'],ascending=False).drop_duplicates(['latitude', 'longitude']).head(10)[['latitude', 'longitude', 'name', 'number_of_reviews']]\n",
    "locations = df4[['latitude', 'longitude']].values.tolist()\n",
    "names = df4['name'].to_list()\n",
    "\n",
    "NYCmap = folium.Map(location=[40.693943, -73.985880])\n",
    "for location,name in zip(locations, names):\n",
    "    folium.Marker(location, popup = name).add_to(NYCmap)\n",
    "NYCmap.save(\"10reviewed.html\")"
   ]
  },
  {
   "cell_type": "markdown",
   "metadata": {},
   "source": [
    "g) Plot on the NYC map the top 10 most available listings "
   ]
  },
  {
   "cell_type": "code",
   "execution_count": 7,
   "metadata": {
    "ExecuteTime": {
     "end_time": "2022-02-22T01:04:50.800783Z",
     "start_time": "2022-02-22T01:04:50.739612Z"
    }
   },
   "outputs": [],
   "source": [
    "# Sort availability by descending order, drop duplicate locations to get unique markers and get first ten values\n",
    "df5 = df.sort_values(by=['availability_365'],ascending=False).drop_duplicates(['latitude', 'longitude']).head(10)[['latitude', 'longitude', 'name', 'availability_365']]\n",
    "locations = df5[['latitude', 'longitude']].values.tolist()\n",
    "names = df5['name'].to_list()\n",
    "\n",
    "NYCmap = folium.Map(location=[40.693943, -73.985880])\n",
    "for location,name in zip(locations, names):\n",
    "    folium.Marker(location, popup = name).add_to(NYCmap)\n",
    "NYCmap.save(\"10available.html\")"
   ]
  },
  {
   "cell_type": "markdown",
   "metadata": {},
   "source": [
    "h) Using `longitude`, `latitude`, `price`, and `number_of_reviews`, use Kmeans to create 5 clusters. Plot the points on the NYC map in a color corresponding to their cluster. \n"
   ]
  },
  {
   "cell_type": "code",
   "execution_count": 8,
   "metadata": {
    "ExecuteTime": {
     "end_time": "2022-02-22T01:05:09.816210Z",
     "start_time": "2022-02-22T01:04:50.802777Z"
    }
   },
   "outputs": [],
   "source": [
    "from sklearn.cluster import KMeans\n",
    "import numpy as np\n",
    "from matplotlib import cm, colors\n",
    "\n",
    "df6 = df[['latitude','longitude', 'price', 'number_of_reviews']].copy()\n",
    "clusters = KMeans(n_clusters=5, random_state=0).fit(df6) # Using KMeans to create five clusters\n",
    "df6['cluster'] = clusters.labels_\n",
    "\n",
    "NYCmap = folium.Map(location=[40.693943, -73.985880])\n",
    "\n",
    "# Colors for clusters\n",
    "colors = ['red' , 'blue', 'green', 'yellow', 'black']\n",
    "\n",
    "# Plots points on map\n",
    "for lat, lng, price, number_of_reviews, cluster in zip(df6['latitude'], df6['longitude'], df6['price'], df6['number_of_reviews'], df6['cluster']):\n",
    "    \n",
    "    folium.vector_layers.CircleMarker(\n",
    "        [lat, lng],\n",
    "        radius=5,\n",
    "        color=colors[cluster-1],\n",
    "        fill=True,\n",
    "        fill_color=colors[cluster-1],\n",
    "        fill_opacity=0.9).add_to(NYCmap)\n",
    "       \n",
    "NYCmap.save(\"Kmeans.html\")"
   ]
  },
  {
   "cell_type": "markdown",
   "metadata": {},
   "source": [
    "i) You should see points in the same cluster all over the map - briefly explain why that is. "
   ]
  },
  {
   "cell_type": "markdown",
   "metadata": {},
   "source": [
    "The data points have four components and k-means clustering is done in a four-dimensional space but the clusters are projected in 2D. Because of the projection, points in the same cluster are all over the map. The 2D plot says little about the neighborhood relations in the original, higher-dimensional space."
   ]
  },
  {
   "cell_type": "markdown",
   "metadata": {},
   "source": [
    "j) How many clusters would you recommend using instead of 5? Display and interpret either the silhouette scores or the elbow method. "
   ]
  },
  {
   "cell_type": "code",
   "execution_count": 9,
   "metadata": {
    "ExecuteTime": {
     "end_time": "2022-02-22T01:06:37.910871Z",
     "start_time": "2022-02-22T01:05:09.820126Z"
    }
   },
   "outputs": [
    {
     "data": {
      "image/png": "[encoded data removed]",
      "text/plain": [
       "<Figure size 720x360 with 1 Axes>"
      ]
     },
     "metadata": {
      "needs_background": "light"
     },
     "output_type": "display_data"
    }
   ],
   "source": [
    "inertias = []\n",
    "\n",
    "K = range(1,20)\n",
    "\n",
    "# Elbow method\n",
    "for k in K:\n",
    "    kmean = KMeans(n_clusters=k, random_state=0, n_init = 50, max_iter = 500)\n",
    "    kmean.fit(df[['latitude','longitude', 'price', 'number_of_reviews']])\n",
    "    inertias.append(kmean.inertia_)\n",
    "plt.figure(figsize=(10,5))\n",
    "plt.plot(K, inertias, 'bx-', color = 'red')\n",
    "plt.xlabel('No of clusters')\n",
    "plt.ylabel('Inertia')\n",
    "plt.title('The Elbow Method')\n",
    "plt.show()"
   ]
  },
  {
   "cell_type": "markdown",
   "metadata": {},
   "source": [
    "By the Elbow method, it is recommended to use 3 clusters since after that the inertia starts decreasing in a linear fashion."
   ]
  },
  {
   "cell_type": "markdown",
   "metadata": {},
   "source": [
    "k) Would you recommend normalizing the price and number of reviews? Briefly explain why."
   ]
  },
  {
   "cell_type": "markdown",
   "metadata": {},
   "source": [
    "Yes, it is important to normalize the price and number of reviews since the range of the values in these columns is very high compared to other numeric columns suh as 'No of reviews per month' thereby skewing the distance computation. Normalizing these values will ensure that all columns contribute the same impact on the distance computed for clustering."
   ]
  },
  {
   "cell_type": "markdown",
   "metadata": {},
   "source": [
    "l) For all listings of type `Shared room`, plot the dendrogram of the hierarchical clustering generated from `longitude`, `latitude`, and `price`. "
   ]
  },
  {
   "cell_type": "code",
   "execution_count": 10,
   "metadata": {
    "ExecuteTime": {
     "end_time": "2022-02-22T01:06:45.988457Z",
     "start_time": "2022-02-22T01:06:37.912856Z"
    }
   },
   "outputs": [
    {
     "data": {
      "image/png": "[encoded data removed]",
      "text/plain": [
       "<Figure size 432x288 with 1 Axes>"
      ]
     },
     "metadata": {
      "needs_background": "light"
     },
     "output_type": "display_data"
    }
   ],
   "source": [
    "from scipy.spatial.distance import pdist, squareform\n",
    "from scipy.cluster.hierarchy import linkage, dendrogram\n",
    "\n",
    "df7 = df[df.room_type == 'Shared room'][['longitude', 'latitude', 'price']]\n",
    "link = linkage(df7,  metric='euclidean', method='single') # Computing the linkage\n",
    "dg = dendrogram(link)"
   ]
  },
  {
   "cell_type": "markdown",
   "metadata": {},
   "source": [
    "m) briefly comment on what you observe from the structure of the dendrogram.  "
   ]
  },
  {
   "cell_type": "markdown",
   "metadata": {},
   "source": [
    "There seem to be three clusters of data points of which two clusters (Orange links) are drastically different from the other one (Blue link) since they can only be linked at a very large distance value of 7000. Though two clusters of data points are reprensented by the same link colour (orange), there seem to be significant differences between them since they can only be linked at distance 700.<br>\n",
    "On normalizing the price, it can be seen that the scale of y-axis is now from 0 - 14 instead of 0 - 7000 but the knowledge inferred from the two graphs is the same.   \n",
    "\n"
   ]
  },
  {
   "cell_type": "markdown",
   "metadata": {},
   "source": [
    "n) Normalize the `price` as in b) and repeat l) "
   ]
  },
  {
   "cell_type": "code",
   "execution_count": 11,
   "metadata": {
    "ExecuteTime": {
     "end_time": "2022-02-22T01:06:53.678311Z",
     "start_time": "2022-02-22T01:06:45.990386Z"
    }
   },
   "outputs": [
    {
     "data": {
      "image/png": "[encoded data removed]",
      "text/plain": [
       "<Figure size 432x288 with 1 Axes>"
      ]
     },
     "metadata": {
      "needs_background": "light"
     },
     "output_type": "display_data"
    }
   ],
   "source": [
    "df7['price'] = abs(df7['price'] - df7['price'].mean()) / df7['price'].std()\n",
    "link = linkage(df7,  metric='euclidean', method='single')# computing the linkage\n",
    "dg = dendrogram(link)"
   ]
  },
  {
   "cell_type": "markdown",
   "metadata": {},
   "source": [
    "This exercise will be using the [mnist dataset](http://yann.lecun.com/exdb/mnist/).\n",
    "\n",
    "a) Using Kmeans, cluster the images using 10 clusters and plot the centroid of each cluster."
   ]
  },
  {
   "cell_type": "code",
   "execution_count": 12,
   "metadata": {
    "ExecuteTime": {
     "end_time": "2022-02-22T01:06:54.723739Z",
     "start_time": "2022-02-22T01:06:53.681299Z"
    }
   },
   "outputs": [
    {
     "data": {
      "image/png": "[encoded data removed]",
      "text/plain": [
       "<Figure size 720x648 with 10 Axes>"
      ]
     },
     "metadata": {
      "needs_background": "light"
     },
     "output_type": "display_data"
    }
   ],
   "source": [
    "import pandas as pd\n",
    "import matplotlib.pyplot as plt\n",
    "import numpy as np\n",
    "\n",
    "from sklearn.cluster import KMeans\n",
    "from sklearn.datasets import load_digits\n",
    "from sklearn.decomposition import PCA\n",
    "\n",
    "data, labels = load_digits(return_X_y = True)\n",
    "clusters = KMeans(n_clusters = 10, random_state=0).fit(data)\n",
    "centroids = clusters.cluster_centers_.reshape(10, 8, 8)\n",
    "plt.figure(figsize = (10, 9))\n",
    "for i in range(10):\n",
    "    plt.subplot(4, 4, i+1)\n",
    "    plt.imshow(centroids[i])"
   ]
  },
  {
   "cell_type": "markdown",
   "metadata": {},
   "source": [
    "b) what is the disagreement distance between the clustering you created above and the clustering created by the labels attached to each image? Briefly explain what this number means in this context. "
   ]
  },
  {
   "cell_type": "code",
   "execution_count": 13,
   "metadata": {
    "ExecuteTime": {
     "end_time": "2022-02-22T01:06:56.118568Z",
     "start_time": "2022-02-22T01:06:54.725647Z"
    }
   },
   "outputs": [
    {
     "name": "stdout",
     "output_type": "stream",
     "text": [
      "Disagreement distance =  98043\n",
      "It means the algorithm has failed to place two similar points in the same cluster or has placed two different points in the same cluster these many times.\n"
     ]
    }
   ],
   "source": [
    "predictions = clusters.labels_\n",
    "\n",
    "distance = 0\n",
    "for i in range(len(data)):\n",
    "    for j in range(i+1, len(data)):\n",
    "        if predictions[i] == predictions[j] and labels[i] != labels[j]: # If l1 and l2 disagree\n",
    "            distance += 1\n",
    "        elif predictions[i] != predictions[j] and labels[i] == labels[j]: # If l1 and l2 disagree \n",
    "            distance += 1\n",
    "\n",
    "print(\"Disagreement distance = \", distance)\n",
    "print(\"It means the algorithm has failed to place two similar points in the same cluster or has placed two different points in the same cluster these many times.\")"
   ]
  },
  {
   "cell_type": "markdown",
   "metadata": {},
   "source": [
    "c) Download the CIFAR-10 dataset [here](https://www.cs.toronto.edu/~kriz/cifar.html). Open `batch_1` by following the documentation on the web page. Plot a random image from the dataset. "
   ]
  },
  {
   "cell_type": "code",
   "execution_count": 14,
   "metadata": {
    "ExecuteTime": {
     "end_time": "2022-02-22T01:06:56.213543Z",
     "start_time": "2022-02-22T01:06:56.120452Z"
    }
   },
   "outputs": [
    {
     "data": {
      "image/png": "[encoded data removed]",
      "text/plain": [
       "<Figure size 1080x576 with 1 Axes>"
      ]
     },
     "metadata": {
      "needs_background": "light"
     },
     "output_type": "display_data"
    }
   ],
   "source": [
    "import matplotlib.pyplot as plt\n",
    "from random import randrange\n",
    "\n",
    "# Load batch 1 as a dictionary using pickle\n",
    "def unpickle(file):\n",
    "    import pickle\n",
    "    with open(file, 'rb') as fo:\n",
    "        dict = pickle.load(fo, encoding='bytes')\n",
    "    return dict\n",
    "\n",
    "batch1 = unpickle(\"./cifar-10-batches-py/data_batch_1\")\n",
    "meta_data = unpickle(\"./cifar-10-batches-py/batches.meta\")\n",
    "\n",
    "index = randrange(10000) # Select random image\n",
    "\n",
    "label_names = meta_data[b'label_names']\n",
    "image = batch1[b'data'][index]\n",
    "label = batch1[b'labels'][index] # Get image label\n",
    "\n",
    "plt.figure(figsize = (15,8))\n",
    "plt.axis('off')\n",
    "plt.title(label_names[label])\n",
    "plt.imshow(image.reshape(3,32,32).transpose(1,2,0)) # Print the image \n",
    "plt.show()"
   ]
  },
  {
   "cell_type": "markdown",
   "metadata": {},
   "source": [
    "d) This image is 32 x 32 pixels and each pixel is a 3-dimensional object of RGB (Red, Green, Blue) intensities. Using the same image as in c), produce an image that only uses 4 colors (the 4 centroids of the clusters obtained by clustering the image itself using Kmeans). "
   ]
  },
  {
   "cell_type": "code",
   "execution_count": 15,
   "metadata": {
    "ExecuteTime": {
     "end_time": "2022-02-22T01:06:56.324757Z",
     "start_time": "2022-02-22T01:06:56.215536Z"
    }
   },
   "outputs": [
    {
     "data": {
      "text/plain": [
       "<matplotlib.image.AxesImage at 0x1e7a81d8948>"
      ]
     },
     "execution_count": 15,
     "metadata": {},
     "output_type": "execute_result"
    },
    {
     "data": {
      "image/png": "[encoded data removed]",
      "text/plain": [
       "<Figure size 1080x576 with 1 Axes>"
      ]
     },
     "metadata": {
      "needs_background": "light"
     },
     "output_type": "display_data"
    }
   ],
   "source": [
    "image = batch1[b'data'][index].reshape(3,32,32).transpose(1,2,0)\n",
    "\n",
    "label_names = meta_data[b'label_names']\n",
    "label = batch1[b'labels'][index] # Get image label\n",
    "\n",
    "x, y, z = image.shape\n",
    "image_2d = image.reshape(x*y, z) # Reshape the image into two dimensions\n",
    "\n",
    "kmeans_cluster = KMeans(n_clusters=4).fit(image_2d) # Forming four clusters \n",
    "cluster_centers = np.uint8(kmeans_cluster.cluster_centers_)\n",
    "cluster_labels = kmeans_cluster.labels_\n",
    "\n",
    "plt.figure(figsize = (15,8))\n",
    "plt.axis('off')\n",
    "plt.title(label_names[label])\n",
    "plt.imshow(cluster_centers[cluster_labels].reshape(x, y, z)) # Print image using only the colors of the centroids"
   ]
  },
  {
   "cell_type": "markdown",
   "metadata": {},
   "source": [
    "e) Write a function that applies this transformation to the entire dataset for any number K of colors. "
   ]
  },
  {
   "cell_type": "code",
   "execution_count": 16,
   "metadata": {
    "ExecuteTime": {
     "end_time": "2022-02-22T01:06:56.799873Z",
     "start_time": "2022-02-22T01:06:56.325808Z"
    }
   },
   "outputs": [
    {
     "data": {
      "image/png": "[encoded data removed]",
      "text/plain": [
       "<Figure size 1080x576 with 1 Axes>"
      ]
     },
     "metadata": {
      "needs_background": "light"
     },
     "output_type": "display_data"
    },
    {
     "data": {
      "image/png": "[encoded data removed]",
      "text/plain": [
       "<Figure size 1080x576 with 1 Axes>"
      ]
     },
     "metadata": {
      "needs_background": "light"
     },
     "output_type": "display_data"
    },
    {
     "data": {
      "image/png": "[encoded data removed]",
      "text/plain": [
       "<Figure size 1080x576 with 1 Axes>"
      ]
     },
     "metadata": {
      "needs_background": "light"
     },
     "output_type": "display_data"
    },
    {
     "data": {
      "image/png": "[encoded data removed]",
      "text/plain": [
       "<Figure size 1080x576 with 1 Axes>"
      ]
     },
     "metadata": {
      "needs_background": "light"
     },
     "output_type": "display_data"
    },
    {
     "data": {
      "image/png": "[encoded data removed]",
      "text/plain": [
       "<Figure size 1080x576 with 1 Axes>"
      ]
     },
     "metadata": {
      "needs_background": "light"
     },
     "output_type": "display_data"
    }
   ],
   "source": [
    "def imageSegmentation(batch, k): # Prints each transformed image of the batch\n",
    "    \n",
    "    images = batch[b'data']\n",
    "    for i in range(5): # Transforms and prints five images. Set to images.shape[0] to apply to entire batch  \n",
    "        \n",
    "        image = images[i].reshape(3,32,32).transpose(1,2,0)\n",
    "        \n",
    "        label_names = meta_data[b'label_names']\n",
    "        label = batch[b'labels'][i]\n",
    "\n",
    "        x, y, z = image.shape\n",
    "        image_2d = image.reshape(x*y, z)\n",
    "\n",
    "        kmeans_cluster = KMeans(n_clusters=k).fit(image_2d)\n",
    "        cluster_centers = np.uint8(kmeans_cluster.cluster_centers_)\n",
    "        cluster_labels = kmeans_cluster.labels_\n",
    "\n",
    "        plt.figure(figsize = (15,8))\n",
    "        plt.axis('off')\n",
    "        plt.title(label_names[label])\n",
    "        plt.imshow(cluster_centers[cluster_labels].reshape(x, y, z))\n",
    "        \n",
    "imageSegmentation(batch1, 5) # Input : batch, number of clusters"
   ]
  }
 ],
 "metadata": {
  "interpreter": {
   "hash": "82429e696b46c3c15b3b750c00f04c8ab1a33795e485b12d2eb3901d37b257c7"
  },
  "kernelspec": {
   "display_name": "Python 3 (ipykernel)",
   "language": "python",
   "name": "python3"
  },
  "language_info": {
   "codemirror_mode": {
    "name": "ipython",
    "version": 3
   },
   "file_extension": ".py",
   "mimetype": "text/x-python",
   "name": "python",
   "nbconvert_exporter": "python",
   "pygments_lexer": "ipython3",
   "version": "3.7.4"
  }
 },
 "nbformat": 4,
 "nbformat_minor": 2
}
