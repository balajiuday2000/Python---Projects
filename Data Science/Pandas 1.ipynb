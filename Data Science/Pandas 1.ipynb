{
 "cells": [
  {
   "cell_type": "markdown",
   "metadata": {},
   "source": [
    "This exercise will use the [Titanic dataset](https://www.kaggle.com/c/titanic/data) (https://www.kaggle.com/c/titanic/data). Download the file named `train.csv` and place it in the same folder as this notebook.\n",
    "\n",
    "a) Write a function that reads in a filepath to a csv and returns the DataFrame."
   ]
  },
  {
   "cell_type": "code",
   "execution_count": 65,
   "metadata": {
    "ExecuteTime": {
     "end_time": "2022-02-08T02:16:39.570877Z",
     "start_time": "2022-02-08T02:16:39.471014Z"
    }
   },
   "outputs": [
    {
     "data": {
      "text/html": [
       "<div>\n",
       "<style scoped>\n",
       "    .dataframe tbody tr th:only-of-type {\n",
       "        vertical-align: middle;\n",
       "    }\n",
       "\n",
       "    .dataframe tbody tr th {\n",
       "        vertical-align: top;\n",
       "    }\n",
       "\n",
       "    .dataframe thead th {\n",
       "        text-align: right;\n",
       "    }\n",
       "</style>\n",
       "<table border=\"1\" class=\"dataframe\">\n",
       "  <thead>\n",
       "    <tr style=\"text-align: right;\">\n",
       "      <th></th>\n",
       "      <th>PassengerId</th>\n",
       "      <th>Survived</th>\n",
       "      <th>Pclass</th>\n",
       "      <th>Age</th>\n",
       "      <th>SibSp</th>\n",
       "      <th>Parch</th>\n",
       "      <th>Fare</th>\n",
       "    </tr>\n",
       "  </thead>\n",
       "  <tbody>\n",
       "    <tr>\n",
       "      <td>count</td>\n",
       "      <td>891.000000</td>\n",
       "      <td>891.000000</td>\n",
       "      <td>891.000000</td>\n",
       "      <td>714.000000</td>\n",
       "      <td>891.000000</td>\n",
       "      <td>891.000000</td>\n",
       "      <td>891.000000</td>\n",
       "    </tr>\n",
       "    <tr>\n",
       "      <td>mean</td>\n",
       "      <td>446.000000</td>\n",
       "      <td>0.383838</td>\n",
       "      <td>2.308642</td>\n",
       "      <td>29.699118</td>\n",
       "      <td>0.523008</td>\n",
       "      <td>0.381594</td>\n",
       "      <td>32.204208</td>\n",
       "    </tr>\n",
       "    <tr>\n",
       "      <td>std</td>\n",
       "      <td>257.353842</td>\n",
       "      <td>0.486592</td>\n",
       "      <td>0.836071</td>\n",
       "      <td>14.526497</td>\n",
       "      <td>1.102743</td>\n",
       "      <td>0.806057</td>\n",
       "      <td>49.693429</td>\n",
       "    </tr>\n",
       "    <tr>\n",
       "      <td>min</td>\n",
       "      <td>1.000000</td>\n",
       "      <td>0.000000</td>\n",
       "      <td>1.000000</td>\n",
       "      <td>0.420000</td>\n",
       "      <td>0.000000</td>\n",
       "      <td>0.000000</td>\n",
       "      <td>0.000000</td>\n",
       "    </tr>\n",
       "    <tr>\n",
       "      <td>25%</td>\n",
       "      <td>223.500000</td>\n",
       "      <td>0.000000</td>\n",
       "      <td>2.000000</td>\n",
       "      <td>20.125000</td>\n",
       "      <td>0.000000</td>\n",
       "      <td>0.000000</td>\n",
       "      <td>7.910400</td>\n",
       "    </tr>\n",
       "    <tr>\n",
       "      <td>50%</td>\n",
       "      <td>446.000000</td>\n",
       "      <td>0.000000</td>\n",
       "      <td>3.000000</td>\n",
       "      <td>28.000000</td>\n",
       "      <td>0.000000</td>\n",
       "      <td>0.000000</td>\n",
       "      <td>14.454200</td>\n",
       "    </tr>\n",
       "    <tr>\n",
       "      <td>75%</td>\n",
       "      <td>668.500000</td>\n",
       "      <td>1.000000</td>\n",
       "      <td>3.000000</td>\n",
       "      <td>38.000000</td>\n",
       "      <td>1.000000</td>\n",
       "      <td>0.000000</td>\n",
       "      <td>31.000000</td>\n",
       "    </tr>\n",
       "    <tr>\n",
       "      <td>max</td>\n",
       "      <td>891.000000</td>\n",
       "      <td>1.000000</td>\n",
       "      <td>3.000000</td>\n",
       "      <td>80.000000</td>\n",
       "      <td>8.000000</td>\n",
       "      <td>6.000000</td>\n",
       "      <td>512.329200</td>\n",
       "    </tr>\n",
       "  </tbody>\n",
       "</table>\n",
       "</div>"
      ],
      "text/plain": [
       "       PassengerId    Survived      Pclass         Age       SibSp  \\\n",
       "count   891.000000  891.000000  891.000000  714.000000  891.000000   \n",
       "mean    446.000000    0.383838    2.308642   29.699118    0.523008   \n",
       "std     257.353842    0.486592    0.836071   14.526497    1.102743   \n",
       "min       1.000000    0.000000    1.000000    0.420000    0.000000   \n",
       "25%     223.500000    0.000000    2.000000   20.125000    0.000000   \n",
       "50%     446.000000    0.000000    3.000000   28.000000    0.000000   \n",
       "75%     668.500000    1.000000    3.000000   38.000000    1.000000   \n",
       "max     891.000000    1.000000    3.000000   80.000000    8.000000   \n",
       "\n",
       "            Parch        Fare  \n",
       "count  891.000000  891.000000  \n",
       "mean     0.381594   32.204208  \n",
       "std      0.806057   49.693429  \n",
       "min      0.000000    0.000000  \n",
       "25%      0.000000    7.910400  \n",
       "50%      0.000000   14.454200  \n",
       "75%      0.000000   31.000000  \n",
       "max      6.000000  512.329200  "
      ]
     },
     "execution_count": 65,
     "metadata": {},
     "output_type": "execute_result"
    }
   ],
   "source": [
    "import pandas as pd\n",
    "\n",
    "#Pandas function to read csv files into dataframes\n",
    "df = pd.read_csv(\"train.csv\")\n",
    "\n",
    "#Pandas function to display statistics of dataframe\n",
    "df.describe()"
   ]
  },
  {
   "cell_type": "markdown",
   "metadata": {},
   "source": [
    "b) Write a function that returns the number of rows that have at least one empty column value "
   ]
  },
  {
   "cell_type": "code",
   "execution_count": 66,
   "metadata": {
    "ExecuteTime": {
     "end_time": "2022-02-08T02:16:40.207341Z",
     "start_time": "2022-02-08T02:16:40.185942Z"
    }
   },
   "outputs": [
    {
     "name": "stdout",
     "output_type": "stream",
     "text": [
      "there are 708 rows with at least one empty value\n"
     ]
    }
   ],
   "source": [
    "def num_nans(df):\n",
    "    return df.isnull().any(axis=1).sum() #Returns number of rows with null values in them \n",
    "\n",
    "print(\"there are \" +  str(num_nans(df)) + \" rows with at least one empty value\")"
   ]
  },
  {
   "cell_type": "markdown",
   "metadata": {},
   "source": [
    "c) Write a function that removes all columns with more than 200 NaN values "
   ]
  },
  {
   "cell_type": "code",
   "execution_count": 67,
   "metadata": {
    "ExecuteTime": {
     "end_time": "2022-02-08T02:16:40.897615Z",
     "start_time": "2022-02-08T02:16:40.869604Z"
    }
   },
   "outputs": [
    {
     "data": {
      "text/plain": [
       "Index(['PassengerId', 'Survived', 'Pclass', 'Name', 'Sex', 'Age', 'SibSp',\n",
       "       'Parch', 'Ticket', 'Fare', 'Embarked'],\n",
       "      dtype='object')"
      ]
     },
     "execution_count": 67,
     "metadata": {},
     "output_type": "execute_result"
    }
   ],
   "source": [
    "def drop_na(df):\n",
    "    return df[df.columns[df.isnull().sum() <= 200]] #Returns only columns with less than 200 NaN values\n",
    "\n",
    "df = drop_na(df)\n",
    "df.columns"
   ]
  },
  {
   "cell_type": "markdown",
   "metadata": {},
   "source": [
    "d) Write a function that replaces `male` with 0 and `female` with 1"
   ]
  },
  {
   "cell_type": "code",
   "execution_count": 68,
   "metadata": {
    "ExecuteTime": {
     "end_time": "2022-02-08T02:16:41.541351Z",
     "start_time": "2022-02-08T02:16:41.488463Z"
    }
   },
   "outputs": [
    {
     "data": {
      "text/html": [
       "<div>\n",
       "<style scoped>\n",
       "    .dataframe tbody tr th:only-of-type {\n",
       "        vertical-align: middle;\n",
       "    }\n",
       "\n",
       "    .dataframe tbody tr th {\n",
       "        vertical-align: top;\n",
       "    }\n",
       "\n",
       "    .dataframe thead th {\n",
       "        text-align: right;\n",
       "    }\n",
       "</style>\n",
       "<table border=\"1\" class=\"dataframe\">\n",
       "  <thead>\n",
       "    <tr style=\"text-align: right;\">\n",
       "      <th></th>\n",
       "      <th>PassengerId</th>\n",
       "      <th>Survived</th>\n",
       "      <th>Pclass</th>\n",
       "      <th>Name</th>\n",
       "      <th>Sex</th>\n",
       "      <th>Age</th>\n",
       "      <th>SibSp</th>\n",
       "      <th>Parch</th>\n",
       "      <th>Ticket</th>\n",
       "      <th>Fare</th>\n",
       "      <th>Embarked</th>\n",
       "    </tr>\n",
       "  </thead>\n",
       "  <tbody>\n",
       "    <tr>\n",
       "      <td>0</td>\n",
       "      <td>1</td>\n",
       "      <td>0</td>\n",
       "      <td>3</td>\n",
       "      <td>Braund, Mr. Owen Harris</td>\n",
       "      <td>0</td>\n",
       "      <td>22.0</td>\n",
       "      <td>1</td>\n",
       "      <td>0</td>\n",
       "      <td>A/5 21171</td>\n",
       "      <td>7.2500</td>\n",
       "      <td>S</td>\n",
       "    </tr>\n",
       "    <tr>\n",
       "      <td>1</td>\n",
       "      <td>2</td>\n",
       "      <td>1</td>\n",
       "      <td>1</td>\n",
       "      <td>Cumings, Mrs. John Bradley (Florence Briggs Th...</td>\n",
       "      <td>1</td>\n",
       "      <td>38.0</td>\n",
       "      <td>1</td>\n",
       "      <td>0</td>\n",
       "      <td>PC 17599</td>\n",
       "      <td>71.2833</td>\n",
       "      <td>C</td>\n",
       "    </tr>\n",
       "    <tr>\n",
       "      <td>2</td>\n",
       "      <td>3</td>\n",
       "      <td>1</td>\n",
       "      <td>3</td>\n",
       "      <td>Heikkinen, Miss. Laina</td>\n",
       "      <td>1</td>\n",
       "      <td>26.0</td>\n",
       "      <td>0</td>\n",
       "      <td>0</td>\n",
       "      <td>STON/O2. 3101282</td>\n",
       "      <td>7.9250</td>\n",
       "      <td>S</td>\n",
       "    </tr>\n",
       "    <tr>\n",
       "      <td>3</td>\n",
       "      <td>4</td>\n",
       "      <td>1</td>\n",
       "      <td>1</td>\n",
       "      <td>Futrelle, Mrs. Jacques Heath (Lily May Peel)</td>\n",
       "      <td>1</td>\n",
       "      <td>35.0</td>\n",
       "      <td>1</td>\n",
       "      <td>0</td>\n",
       "      <td>113803</td>\n",
       "      <td>53.1000</td>\n",
       "      <td>S</td>\n",
       "    </tr>\n",
       "    <tr>\n",
       "      <td>4</td>\n",
       "      <td>5</td>\n",
       "      <td>0</td>\n",
       "      <td>3</td>\n",
       "      <td>Allen, Mr. William Henry</td>\n",
       "      <td>0</td>\n",
       "      <td>35.0</td>\n",
       "      <td>0</td>\n",
       "      <td>0</td>\n",
       "      <td>373450</td>\n",
       "      <td>8.0500</td>\n",
       "      <td>S</td>\n",
       "    </tr>\n",
       "  </tbody>\n",
       "</table>\n",
       "</div>"
      ],
      "text/plain": [
       "   PassengerId  Survived  Pclass  \\\n",
       "0            1         0       3   \n",
       "1            2         1       1   \n",
       "2            3         1       3   \n",
       "3            4         1       1   \n",
       "4            5         0       3   \n",
       "\n",
       "                                                Name  Sex   Age  SibSp  Parch  \\\n",
       "0                            Braund, Mr. Owen Harris    0  22.0      1      0   \n",
       "1  Cumings, Mrs. John Bradley (Florence Briggs Th...    1  38.0      1      0   \n",
       "2                             Heikkinen, Miss. Laina    1  26.0      0      0   \n",
       "3       Futrelle, Mrs. Jacques Heath (Lily May Peel)    1  35.0      1      0   \n",
       "4                           Allen, Mr. William Henry    0  35.0      0      0   \n",
       "\n",
       "             Ticket     Fare Embarked  \n",
       "0         A/5 21171   7.2500        S  \n",
       "1          PC 17599  71.2833        C  \n",
       "2  STON/O2. 3101282   7.9250        S  \n",
       "3            113803  53.1000        S  \n",
       "4            373450   8.0500        S  "
      ]
     },
     "execution_count": 68,
     "metadata": {},
     "output_type": "execute_result"
    }
   ],
   "source": [
    "def to_numerical(df):\n",
    "    return df.Sex.replace(['male', 'female'], [0, 1]) #Replaces 'male' with 0 and 'female' with 1\n",
    "\n",
    "df['Sex'] = to_numerical(df)\n",
    "df.head()"
   ]
  },
  {
   "cell_type": "markdown",
   "metadata": {},
   "source": [
    "e)  Write a function that adds four columns `First Name`, `Middle Name`, `Last Name`, and `Title` corresponding to the value in the `name` column. \n",
    "\n",
    "For example: `Braund, Mr. Owen Harris` would be: \n",
    "\n",
    "|First Name | Middle Name | Last Name | Title |\n",
    "|-----------|-------------|-----------|-------|\n",
    "| Owen      |  Harris     |  Braund   | Mr    |"
   ]
  },
  {
   "cell_type": "code",
   "execution_count": 69,
   "metadata": {
    "ExecuteTime": {
     "end_time": "2022-02-08T02:16:44.799459Z",
     "start_time": "2022-02-08T02:16:42.333091Z"
    }
   },
   "outputs": [
    {
     "data": {
      "text/html": [
       "<div>\n",
       "<style scoped>\n",
       "    .dataframe tbody tr th:only-of-type {\n",
       "        vertical-align: middle;\n",
       "    }\n",
       "\n",
       "    .dataframe tbody tr th {\n",
       "        vertical-align: top;\n",
       "    }\n",
       "\n",
       "    .dataframe thead th {\n",
       "        text-align: right;\n",
       "    }\n",
       "</style>\n",
       "<table border=\"1\" class=\"dataframe\">\n",
       "  <thead>\n",
       "    <tr style=\"text-align: right;\">\n",
       "      <th></th>\n",
       "      <th>PassengerId</th>\n",
       "      <th>Survived</th>\n",
       "      <th>Pclass</th>\n",
       "      <th>Name</th>\n",
       "      <th>Sex</th>\n",
       "      <th>Age</th>\n",
       "      <th>SibSp</th>\n",
       "      <th>Parch</th>\n",
       "      <th>Ticket</th>\n",
       "      <th>Fare</th>\n",
       "      <th>Embarked</th>\n",
       "      <th>Last Name</th>\n",
       "      <th>Title</th>\n",
       "      <th>First Name</th>\n",
       "      <th>Middle Name</th>\n",
       "    </tr>\n",
       "  </thead>\n",
       "  <tbody>\n",
       "    <tr>\n",
       "      <td>0</td>\n",
       "      <td>1</td>\n",
       "      <td>0</td>\n",
       "      <td>3</td>\n",
       "      <td>Braund, Mr. Owen Harris</td>\n",
       "      <td>0</td>\n",
       "      <td>22.0</td>\n",
       "      <td>1</td>\n",
       "      <td>0</td>\n",
       "      <td>A/5 21171</td>\n",
       "      <td>7.2500</td>\n",
       "      <td>S</td>\n",
       "      <td>Braund</td>\n",
       "      <td>Mr</td>\n",
       "      <td>Owen</td>\n",
       "      <td>Harris</td>\n",
       "    </tr>\n",
       "    <tr>\n",
       "      <td>1</td>\n",
       "      <td>2</td>\n",
       "      <td>1</td>\n",
       "      <td>1</td>\n",
       "      <td>Cumings, Mrs. John Bradley (Florence Briggs Th...</td>\n",
       "      <td>1</td>\n",
       "      <td>38.0</td>\n",
       "      <td>1</td>\n",
       "      <td>0</td>\n",
       "      <td>PC 17599</td>\n",
       "      <td>71.2833</td>\n",
       "      <td>C</td>\n",
       "      <td>Cumings</td>\n",
       "      <td>Mrs</td>\n",
       "      <td>John</td>\n",
       "      <td>Bradley</td>\n",
       "    </tr>\n",
       "    <tr>\n",
       "      <td>2</td>\n",
       "      <td>3</td>\n",
       "      <td>1</td>\n",
       "      <td>3</td>\n",
       "      <td>Heikkinen, Miss. Laina</td>\n",
       "      <td>1</td>\n",
       "      <td>26.0</td>\n",
       "      <td>0</td>\n",
       "      <td>0</td>\n",
       "      <td>STON/O2. 3101282</td>\n",
       "      <td>7.9250</td>\n",
       "      <td>S</td>\n",
       "      <td>Heikkinen</td>\n",
       "      <td>Miss</td>\n",
       "      <td>Laina</td>\n",
       "      <td>NaN</td>\n",
       "    </tr>\n",
       "    <tr>\n",
       "      <td>3</td>\n",
       "      <td>4</td>\n",
       "      <td>1</td>\n",
       "      <td>1</td>\n",
       "      <td>Futrelle, Mrs. Jacques Heath (Lily May Peel)</td>\n",
       "      <td>1</td>\n",
       "      <td>35.0</td>\n",
       "      <td>1</td>\n",
       "      <td>0</td>\n",
       "      <td>113803</td>\n",
       "      <td>53.1000</td>\n",
       "      <td>S</td>\n",
       "      <td>Futrelle</td>\n",
       "      <td>Mrs</td>\n",
       "      <td>Jacques</td>\n",
       "      <td>Heath</td>\n",
       "    </tr>\n",
       "    <tr>\n",
       "      <td>4</td>\n",
       "      <td>5</td>\n",
       "      <td>0</td>\n",
       "      <td>3</td>\n",
       "      <td>Allen, Mr. William Henry</td>\n",
       "      <td>0</td>\n",
       "      <td>35.0</td>\n",
       "      <td>0</td>\n",
       "      <td>0</td>\n",
       "      <td>373450</td>\n",
       "      <td>8.0500</td>\n",
       "      <td>S</td>\n",
       "      <td>Allen</td>\n",
       "      <td>Mr</td>\n",
       "      <td>William</td>\n",
       "      <td>Henry</td>\n",
       "    </tr>\n",
       "  </tbody>\n",
       "</table>\n",
       "</div>"
      ],
      "text/plain": [
       "   PassengerId  Survived  Pclass  \\\n",
       "0            1         0       3   \n",
       "1            2         1       1   \n",
       "2            3         1       3   \n",
       "3            4         1       1   \n",
       "4            5         0       3   \n",
       "\n",
       "                                                Name  Sex   Age  SibSp  Parch  \\\n",
       "0                            Braund, Mr. Owen Harris    0  22.0      1      0   \n",
       "1  Cumings, Mrs. John Bradley (Florence Briggs Th...    1  38.0      1      0   \n",
       "2                             Heikkinen, Miss. Laina    1  26.0      0      0   \n",
       "3       Futrelle, Mrs. Jacques Heath (Lily May Peel)    1  35.0      1      0   \n",
       "4                           Allen, Mr. William Henry    0  35.0      0      0   \n",
       "\n",
       "             Ticket     Fare Embarked  Last Name  Title First Name Middle Name  \n",
       "0         A/5 21171   7.2500        S     Braund     Mr       Owen      Harris  \n",
       "1          PC 17599  71.2833        C    Cumings    Mrs       John     Bradley  \n",
       "2  STON/O2. 3101282   7.9250        S  Heikkinen   Miss      Laina         NaN  \n",
       "3            113803  53.1000        S   Futrelle    Mrs    Jacques       Heath  \n",
       "4            373450   8.0500        S      Allen     Mr    William       Henry  "
      ]
     },
     "execution_count": 69,
     "metadata": {},
     "output_type": "execute_result"
    }
   ],
   "source": [
    "import numpy as np\n",
    "\n",
    "def extract_names(df):\n",
    "    \n",
    "    #To extract Last Name\n",
    "    df[\"Last Name\"] = df[\"Name\"].str.split(\",\").str.get(0)\n",
    "    \n",
    "    #To extract Title\n",
    "    df[\"Title\"] = df[\"Name\"].str.split(\",\").str.get(1).str.split(\".\").str.get(0)\n",
    "    \n",
    "    #To extract First Name\n",
    "    df[\"First Name\"] = df[\"Name\"].str.split(\",\").str.get(1).str.split(\" \").str.get(2)\n",
    "    #To remove paranthesis in First Names\n",
    "    df['First Name'].replace(regex='\\(.*',value= df['First Name'].str[1:], inplace = True)\n",
    "    \n",
    "    #To extract Middle Names\n",
    "    df[\"Middle Name\"] = df[\"Name\"].str.split(\",\").str.get(1).str.split(\" \").str.get(3)\n",
    "    #To remove dirty data\n",
    "    df['Middle Name'].replace(regex='\\(.*',value= np.nan, inplace = True)\n",
    "    #To remove paranthesis in Middle Names\n",
    "    df['Middle Name'].replace(regex='.*\\)',value= df['Middle Name'].str[:-1], inplace = True)\n",
    "    return df[['First Name', 'Middle Name', 'Last Name', 'Title']]\n",
    "\n",
    "df[['First Name', 'Middle Name', 'Last Name', 'Title']] = extract_names(df)\n",
    "df.head()"
   ]
  },
  {
   "cell_type": "markdown",
   "metadata": {},
   "source": [
    "f) Write a function that replaces all missing ages with the average age "
   ]
  },
  {
   "cell_type": "code",
   "execution_count": 70,
   "metadata": {
    "ExecuteTime": {
     "end_time": "2022-02-08T02:16:44.846708Z",
     "start_time": "2022-02-08T02:16:44.804454Z"
    }
   },
   "outputs": [
    {
     "data": {
      "text/html": [
       "<div>\n",
       "<style scoped>\n",
       "    .dataframe tbody tr th:only-of-type {\n",
       "        vertical-align: middle;\n",
       "    }\n",
       "\n",
       "    .dataframe tbody tr th {\n",
       "        vertical-align: top;\n",
       "    }\n",
       "\n",
       "    .dataframe thead th {\n",
       "        text-align: right;\n",
       "    }\n",
       "</style>\n",
       "<table border=\"1\" class=\"dataframe\">\n",
       "  <thead>\n",
       "    <tr style=\"text-align: right;\">\n",
       "      <th></th>\n",
       "      <th>PassengerId</th>\n",
       "      <th>Survived</th>\n",
       "      <th>Pclass</th>\n",
       "      <th>Name</th>\n",
       "      <th>Sex</th>\n",
       "      <th>Age</th>\n",
       "      <th>SibSp</th>\n",
       "      <th>Parch</th>\n",
       "      <th>Ticket</th>\n",
       "      <th>Fare</th>\n",
       "      <th>Embarked</th>\n",
       "      <th>Last Name</th>\n",
       "      <th>Title</th>\n",
       "      <th>First Name</th>\n",
       "      <th>Middle Name</th>\n",
       "    </tr>\n",
       "  </thead>\n",
       "  <tbody>\n",
       "    <tr>\n",
       "      <td>0</td>\n",
       "      <td>1</td>\n",
       "      <td>0</td>\n",
       "      <td>3</td>\n",
       "      <td>Braund, Mr. Owen Harris</td>\n",
       "      <td>0</td>\n",
       "      <td>22.0</td>\n",
       "      <td>1</td>\n",
       "      <td>0</td>\n",
       "      <td>A/5 21171</td>\n",
       "      <td>7.2500</td>\n",
       "      <td>S</td>\n",
       "      <td>Braund</td>\n",
       "      <td>Mr</td>\n",
       "      <td>Owen</td>\n",
       "      <td>Harris</td>\n",
       "    </tr>\n",
       "    <tr>\n",
       "      <td>1</td>\n",
       "      <td>2</td>\n",
       "      <td>1</td>\n",
       "      <td>1</td>\n",
       "      <td>Cumings, Mrs. John Bradley (Florence Briggs Th...</td>\n",
       "      <td>1</td>\n",
       "      <td>38.0</td>\n",
       "      <td>1</td>\n",
       "      <td>0</td>\n",
       "      <td>PC 17599</td>\n",
       "      <td>71.2833</td>\n",
       "      <td>C</td>\n",
       "      <td>Cumings</td>\n",
       "      <td>Mrs</td>\n",
       "      <td>John</td>\n",
       "      <td>Bradley</td>\n",
       "    </tr>\n",
       "    <tr>\n",
       "      <td>2</td>\n",
       "      <td>3</td>\n",
       "      <td>1</td>\n",
       "      <td>3</td>\n",
       "      <td>Heikkinen, Miss. Laina</td>\n",
       "      <td>1</td>\n",
       "      <td>26.0</td>\n",
       "      <td>0</td>\n",
       "      <td>0</td>\n",
       "      <td>STON/O2. 3101282</td>\n",
       "      <td>7.9250</td>\n",
       "      <td>S</td>\n",
       "      <td>Heikkinen</td>\n",
       "      <td>Miss</td>\n",
       "      <td>Laina</td>\n",
       "      <td>NaN</td>\n",
       "    </tr>\n",
       "    <tr>\n",
       "      <td>3</td>\n",
       "      <td>4</td>\n",
       "      <td>1</td>\n",
       "      <td>1</td>\n",
       "      <td>Futrelle, Mrs. Jacques Heath (Lily May Peel)</td>\n",
       "      <td>1</td>\n",
       "      <td>35.0</td>\n",
       "      <td>1</td>\n",
       "      <td>0</td>\n",
       "      <td>113803</td>\n",
       "      <td>53.1000</td>\n",
       "      <td>S</td>\n",
       "      <td>Futrelle</td>\n",
       "      <td>Mrs</td>\n",
       "      <td>Jacques</td>\n",
       "      <td>Heath</td>\n",
       "    </tr>\n",
       "    <tr>\n",
       "      <td>4</td>\n",
       "      <td>5</td>\n",
       "      <td>0</td>\n",
       "      <td>3</td>\n",
       "      <td>Allen, Mr. William Henry</td>\n",
       "      <td>0</td>\n",
       "      <td>35.0</td>\n",
       "      <td>0</td>\n",
       "      <td>0</td>\n",
       "      <td>373450</td>\n",
       "      <td>8.0500</td>\n",
       "      <td>S</td>\n",
       "      <td>Allen</td>\n",
       "      <td>Mr</td>\n",
       "      <td>William</td>\n",
       "      <td>Henry</td>\n",
       "    </tr>\n",
       "  </tbody>\n",
       "</table>\n",
       "</div>"
      ],
      "text/plain": [
       "   PassengerId  Survived  Pclass  \\\n",
       "0            1         0       3   \n",
       "1            2         1       1   \n",
       "2            3         1       3   \n",
       "3            4         1       1   \n",
       "4            5         0       3   \n",
       "\n",
       "                                                Name  Sex   Age  SibSp  Parch  \\\n",
       "0                            Braund, Mr. Owen Harris    0  22.0      1      0   \n",
       "1  Cumings, Mrs. John Bradley (Florence Briggs Th...    1  38.0      1      0   \n",
       "2                             Heikkinen, Miss. Laina    1  26.0      0      0   \n",
       "3       Futrelle, Mrs. Jacques Heath (Lily May Peel)    1  35.0      1      0   \n",
       "4                           Allen, Mr. William Henry    0  35.0      0      0   \n",
       "\n",
       "             Ticket     Fare Embarked  Last Name  Title First Name Middle Name  \n",
       "0         A/5 21171   7.2500        S     Braund     Mr       Owen      Harris  \n",
       "1          PC 17599  71.2833        C    Cumings    Mrs       John     Bradley  \n",
       "2  STON/O2. 3101282   7.9250        S  Heikkinen   Miss      Laina         NaN  \n",
       "3            113803  53.1000        S   Futrelle    Mrs    Jacques       Heath  \n",
       "4            373450   8.0500        S      Allen     Mr    William       Henry  "
      ]
     },
     "execution_count": 70,
     "metadata": {},
     "output_type": "execute_result"
    }
   ],
   "source": [
    "def replace_with_mean(df):\n",
    "    return df['Age'].fillna((df['Age'].mean())) #Fills NaN cells in Age with mean \n",
    "\n",
    "df['Age'] = replace_with_mean(df)\n",
    "df.head()"
   ]
  },
  {
   "cell_type": "markdown",
   "metadata": {},
   "source": [
    "The next set of questions focus on visualization. Please use pandas and [matplotlib](https://pypi.org/project/matplotlib/) for all plotting.\n",
    "\n",
    "g) Plot a bar chart of the average age of those that survived and did not survive. Briefly comment on what you observe. "
   ]
  },
  {
   "cell_type": "code",
   "execution_count": 71,
   "metadata": {
    "ExecuteTime": {
     "end_time": "2022-02-08T02:16:45.130549Z",
     "start_time": "2022-02-08T02:16:44.852645Z"
    }
   },
   "outputs": [
    {
     "data": {
      "image/png": "[encoded data removed]",
      "text/plain": [
       "<Figure size 432x288 with 1 Axes>"
      ]
     },
     "metadata": {
      "needs_background": "light"
     },
     "output_type": "display_data"
    }
   ],
   "source": [
    "import matplotlib.pyplot as plt\n",
    "%matplotlib inline\n",
    "\n",
    "#Group by 'Survived' and get mean age of each group\n",
    "plt.bar(['Did Not Survive', 'Survived'],df.groupby('Survived').Age.mean().to_list(), color ='red', width = 0.4)\n",
    "plt.xlabel(\"Status\")\n",
    "plt.ylabel(\"Average age\")\n",
    "plt.title(\"Average age of those who survived and did not survive\")\n",
    "plt.show()"
   ]
  },
  {
   "cell_type": "markdown",
   "metadata": {},
   "source": [
    "> The average age of the survivors is about 28 while the average age of those who did not survive is about 30.\n",
    "> It can be inferred that young people had a higher chance of survival."
   ]
  },
  {
   "cell_type": "markdown",
   "metadata": {},
   "source": [
    "h) Plot a bar chart of the proportion that survived for male and female. Briefly comment on what you observe. "
   ]
  },
  {
   "cell_type": "code",
   "execution_count": 72,
   "metadata": {
    "ExecuteTime": {
     "end_time": "2022-02-08T02:16:46.117494Z",
     "start_time": "2022-02-08T02:16:45.832444Z"
    }
   },
   "outputs": [
    {
     "data": {
      "image/png": "[encoded data removed]",
      "text/plain": [
       "<Figure size 432x288 with 1 Axes>"
      ]
     },
     "metadata": {
      "needs_background": "light"
     },
     "output_type": "display_data"
    }
   ],
   "source": [
    "plt.bar(['Male', 'Female'],[len(df[(df.Sex==False) & (df.Survived==True)])/len(df[df.Sex==False]) * 100,len(df[(df.Sex==True) & (df.Survived==True)])/len(df[df.Sex==True]) * 100], color ='red',\n",
    "        width = 0.4) #Survivors (per gender) / Total (of the gender) = proportion of survivors (per gender)\n",
    "plt.xlabel(\"Gender\")\n",
    "plt.ylabel(\"Proportion of survivors\")\n",
    "plt.title(\"Proportion of male and female survivors\")\n",
    "plt.show()"
   ]
  },
  {
   "cell_type": "markdown",
   "metadata": {},
   "source": [
    ">About 18 percent of the men onboard survived.\n",
    ">About 72 percent of the women onboard survived.\n",
    ">It can be inferred that females had a higher chance of survival compared to men."
   ]
  },
  {
   "cell_type": "markdown",
   "metadata": {},
   "source": [
    "i) Plot a bar chart of the proportion that survived for each title. Briefly comment on what you observe. "
   ]
  },
  {
   "cell_type": "code",
   "execution_count": 74,
   "metadata": {
    "ExecuteTime": {
     "end_time": "2022-02-08T02:16:52.964989Z",
     "start_time": "2022-02-08T02:16:52.437412Z"
    }
   },
   "outputs": [
    {
     "data": {
      "image/png": "[encoded data removed]",
      "text/plain": [
       "<Figure size 1440x216 with 1 Axes>"
      ]
     },
     "metadata": {
      "needs_background": "light"
     },
     "output_type": "display_data"
    }
   ],
   "source": [
    "proportions=[]\n",
    "for title in df.Title.unique():\n",
    "    proportions.append(len(df[(df.Title==title) & (df.Survived==True)])/len(df[df.Title==title]) * 100)\n",
    "\n",
    "plt.bar(df.Title.unique(),proportions, color ='red', width = 0.1)\n",
    "plt.xlabel(\"Title\")\n",
    "plt.ylabel(\"Proportion of survivors\")\n",
    "plt.title(\"Proportion of survivors for each title\")\n",
    "plt.rcParams[\"figure.figsize\"] = (20,3)\n",
    "plt.show()"
   ]
  },
  {
   "cell_type": "markdown",
   "metadata": {},
   "source": [
    ">The higher rankings such as 'Mme','Lady' and 'Sir' had a better chance of survival then titles such as 'Mr','Mrs' and 'Master'.\n",
    ">Men with the lowest ranking 'Mr' had the worst chance of survival while their wives and children ('Mrs' and 'Miss'/'master' had a better chance."
   ]
  },
  {
   "cell_type": "markdown",
   "metadata": {},
   "source": [
    "j) Plot a bar chart of the average fare for those that survived and those that did not survive. Briefly comment on what you observe. "
   ]
  },
  {
   "cell_type": "code",
   "execution_count": 75,
   "metadata": {
    "ExecuteTime": {
     "end_time": "2022-02-08T02:16:56.346430Z",
     "start_time": "2022-02-08T02:16:56.102086Z"
    }
   },
   "outputs": [
    {
     "data": {
      "image/png": "[encoded data removed]",
      "text/plain": [
       "<Figure size 460.8x345.6 with 1 Axes>"
      ]
     },
     "metadata": {
      "needs_background": "light"
     },
     "output_type": "display_data"
    }
   ],
   "source": [
    "plt.rcParams[\"figure.figsize\"] = plt.rcParamsDefault[\"figure.figsize\"]\n",
    "\n",
    "#Group by 'Survived' and get mean fare of each group\n",
    "plt.bar(['Did Not Survive', 'Survived'],df.groupby('Survived').Fare.mean().to_list(), color ='red',\n",
    "        width = 0.4)\n",
    "plt.xlabel(\"Status\")\n",
    "plt.ylabel(\"Average fare\")\n",
    "plt.title(\"Average fare of those who survived and did not survive\")\n",
    "plt.show()"
   ]
  },
  {
   "cell_type": "markdown",
   "metadata": {},
   "source": [
    ">The average fare paid by the people who survived is about 48.\n",
    ">The average fare paid by the people who did not survive is about 22.\n",
    ">It can be inferred that people who paid a higher fare, had a higher chance of survival."
   ]
  },
  {
   "cell_type": "markdown",
   "metadata": {},
   "source": [
    "k) Create a boxplot for the fare of those that survived and those that did not survive. Briefly comment on what you observe."
   ]
  },
  {
   "cell_type": "code",
   "execution_count": 76,
   "metadata": {
    "ExecuteTime": {
     "end_time": "2022-02-08T02:16:57.406552Z",
     "start_time": "2022-02-08T02:16:57.083058Z"
    }
   },
   "outputs": [
    {
     "data": {
      "image/png": "[encoded data removed]",
      "text/plain": [
       "<Figure size 720x504 with 1 Axes>"
      ]
     },
     "metadata": {
      "needs_background": "light"
     },
     "output_type": "display_data"
    }
   ],
   "source": [
    "fig = plt.figure(figsize =(10, 7))\n",
    "ax = fig.add_axes([0, 0, 1, 1])\n",
    "ax.set_xticklabels(['Survivors', 'Non-Survivors'])\n",
    " \n",
    "#Get Fare data by 'Surived'\n",
    "bp = ax.boxplot([df[df.Survived==True].Fare, df[df.Survived==False].Fare])\n",
    "plt.show()"
   ]
  },
  {
   "cell_type": "markdown",
   "metadata": {},
   "source": [
    ">The median fare of the survivors is higher than that of those who did not survive.\n",
    ">There are a few people who paid huge prices for tickets and did not survive (Outliers on the second plot). \n",
    ">One person paid 500 for a ticket which is significantly higher than any other fare."
   ]
  },
  {
   "cell_type": "markdown",
   "metadata": {},
   "source": [
    "k) Create a function to subtract the mean fare from the actual fare then divide by the standard deviation "
   ]
  },
  {
   "cell_type": "code",
   "execution_count": 77,
   "metadata": {
    "ExecuteTime": {
     "end_time": "2022-02-08T02:16:58.364584Z",
     "start_time": "2022-02-08T02:16:58.314024Z"
    },
    "scrolled": true
   },
   "outputs": [
    {
     "data": {
      "text/html": [
       "<div>\n",
       "<style scoped>\n",
       "    .dataframe tbody tr th:only-of-type {\n",
       "        vertical-align: middle;\n",
       "    }\n",
       "\n",
       "    .dataframe tbody tr th {\n",
       "        vertical-align: top;\n",
       "    }\n",
       "\n",
       "    .dataframe thead th {\n",
       "        text-align: right;\n",
       "    }\n",
       "</style>\n",
       "<table border=\"1\" class=\"dataframe\">\n",
       "  <thead>\n",
       "    <tr style=\"text-align: right;\">\n",
       "      <th></th>\n",
       "      <th>PassengerId</th>\n",
       "      <th>Survived</th>\n",
       "      <th>Pclass</th>\n",
       "      <th>Name</th>\n",
       "      <th>Sex</th>\n",
       "      <th>Age</th>\n",
       "      <th>SibSp</th>\n",
       "      <th>Parch</th>\n",
       "      <th>Ticket</th>\n",
       "      <th>Fare</th>\n",
       "      <th>Embarked</th>\n",
       "      <th>Last Name</th>\n",
       "      <th>Title</th>\n",
       "      <th>First Name</th>\n",
       "      <th>Middle Name</th>\n",
       "    </tr>\n",
       "  </thead>\n",
       "  <tbody>\n",
       "    <tr>\n",
       "      <td>0</td>\n",
       "      <td>1</td>\n",
       "      <td>0</td>\n",
       "      <td>3</td>\n",
       "      <td>Braund, Mr. Owen Harris</td>\n",
       "      <td>0</td>\n",
       "      <td>22.0</td>\n",
       "      <td>1</td>\n",
       "      <td>0</td>\n",
       "      <td>A/5 21171</td>\n",
       "      <td>0.502163</td>\n",
       "      <td>S</td>\n",
       "      <td>Braund</td>\n",
       "      <td>Mr</td>\n",
       "      <td>Owen</td>\n",
       "      <td>Harris</td>\n",
       "    </tr>\n",
       "    <tr>\n",
       "      <td>1</td>\n",
       "      <td>2</td>\n",
       "      <td>1</td>\n",
       "      <td>1</td>\n",
       "      <td>Cumings, Mrs. John Bradley (Florence Briggs Th...</td>\n",
       "      <td>1</td>\n",
       "      <td>38.0</td>\n",
       "      <td>1</td>\n",
       "      <td>0</td>\n",
       "      <td>PC 17599</td>\n",
       "      <td>0.786404</td>\n",
       "      <td>C</td>\n",
       "      <td>Cumings</td>\n",
       "      <td>Mrs</td>\n",
       "      <td>John</td>\n",
       "      <td>Bradley</td>\n",
       "    </tr>\n",
       "    <tr>\n",
       "      <td>2</td>\n",
       "      <td>3</td>\n",
       "      <td>1</td>\n",
       "      <td>3</td>\n",
       "      <td>Heikkinen, Miss. Laina</td>\n",
       "      <td>1</td>\n",
       "      <td>26.0</td>\n",
       "      <td>0</td>\n",
       "      <td>0</td>\n",
       "      <td>STON/O2. 3101282</td>\n",
       "      <td>0.488580</td>\n",
       "      <td>S</td>\n",
       "      <td>Heikkinen</td>\n",
       "      <td>Miss</td>\n",
       "      <td>Laina</td>\n",
       "      <td>NaN</td>\n",
       "    </tr>\n",
       "    <tr>\n",
       "      <td>3</td>\n",
       "      <td>4</td>\n",
       "      <td>1</td>\n",
       "      <td>1</td>\n",
       "      <td>Futrelle, Mrs. Jacques Heath (Lily May Peel)</td>\n",
       "      <td>1</td>\n",
       "      <td>35.0</td>\n",
       "      <td>1</td>\n",
       "      <td>0</td>\n",
       "      <td>113803</td>\n",
       "      <td>0.420494</td>\n",
       "      <td>S</td>\n",
       "      <td>Futrelle</td>\n",
       "      <td>Mrs</td>\n",
       "      <td>Jacques</td>\n",
       "      <td>Heath</td>\n",
       "    </tr>\n",
       "    <tr>\n",
       "      <td>4</td>\n",
       "      <td>5</td>\n",
       "      <td>0</td>\n",
       "      <td>3</td>\n",
       "      <td>Allen, Mr. William Henry</td>\n",
       "      <td>0</td>\n",
       "      <td>35.0</td>\n",
       "      <td>0</td>\n",
       "      <td>0</td>\n",
       "      <td>373450</td>\n",
       "      <td>0.486064</td>\n",
       "      <td>S</td>\n",
       "      <td>Allen</td>\n",
       "      <td>Mr</td>\n",
       "      <td>William</td>\n",
       "      <td>Henry</td>\n",
       "    </tr>\n",
       "  </tbody>\n",
       "</table>\n",
       "</div>"
      ],
      "text/plain": [
       "   PassengerId  Survived  Pclass  \\\n",
       "0            1         0       3   \n",
       "1            2         1       1   \n",
       "2            3         1       3   \n",
       "3            4         1       1   \n",
       "4            5         0       3   \n",
       "\n",
       "                                                Name  Sex   Age  SibSp  Parch  \\\n",
       "0                            Braund, Mr. Owen Harris    0  22.0      1      0   \n",
       "1  Cumings, Mrs. John Bradley (Florence Briggs Th...    1  38.0      1      0   \n",
       "2                             Heikkinen, Miss. Laina    1  26.0      0      0   \n",
       "3       Futrelle, Mrs. Jacques Heath (Lily May Peel)    1  35.0      1      0   \n",
       "4                           Allen, Mr. William Henry    0  35.0      0      0   \n",
       "\n",
       "             Ticket      Fare Embarked  Last Name  Title First Name  \\\n",
       "0         A/5 21171  0.502163        S     Braund     Mr       Owen   \n",
       "1          PC 17599  0.786404        C    Cumings    Mrs       John   \n",
       "2  STON/O2. 3101282  0.488580        S  Heikkinen   Miss      Laina   \n",
       "3            113803  0.420494        S   Futrelle    Mrs    Jacques   \n",
       "4            373450  0.486064        S      Allen     Mr    William   \n",
       "\n",
       "  Middle Name  \n",
       "0      Harris  \n",
       "1     Bradley  \n",
       "2         NaN  \n",
       "3       Heath  \n",
       "4       Henry  "
      ]
     },
     "execution_count": 77,
     "metadata": {},
     "output_type": "execute_result"
    }
   ],
   "source": [
    "def fare(df):\n",
    "    df['Fare'] = abs(df['Fare'] - df['Fare'].mean()) / df['Fare'].std() #Z-score normalization for Fare\n",
    "    return df['Fare']\n",
    "\n",
    "df['Fare'] = fare(df)\n",
    "df.head()"
   ]
  },
  {
   "cell_type": "markdown",
   "metadata": {},
   "source": [
    "l) Remove all non-numerical columns from the dataframe. "
   ]
  },
  {
   "cell_type": "code",
   "execution_count": 78,
   "metadata": {
    "ExecuteTime": {
     "end_time": "2022-02-08T02:16:58.929177Z",
     "start_time": "2022-02-08T02:16:58.890697Z"
    }
   },
   "outputs": [
    {
     "data": {
      "text/plain": [
       "Index(['PassengerId', 'Survived', 'Pclass', 'Sex', 'Age', 'SibSp', 'Parch',\n",
       "       'Fare'],\n",
       "      dtype='object')"
      ]
     },
     "execution_count": 78,
     "metadata": {},
     "output_type": "execute_result"
    }
   ],
   "source": [
    "Names = df['Name'].to_list()\n",
    "df = df.select_dtypes(['number']) #Removes non-numerical columns\n",
    "df.columns"
   ]
  },
  {
   "cell_type": "markdown",
   "metadata": {},
   "source": [
    "m) Ignoring passenger ID, write a function that returns the names of the N most similar passengers using the euclidean distance? "
   ]
  },
  {
   "cell_type": "code",
   "execution_count": 79,
   "metadata": {
    "ExecuteTime": {
     "end_time": "2022-02-08T02:16:59.769563Z",
     "start_time": "2022-02-08T02:16:59.700787Z"
    }
   },
   "outputs": [
    {
     "name": "stdout",
     "output_type": "stream",
     "text": [
      "The 3 most similar passengers are: ['McGovern, Miss. Mary', 'Mockler, Miss. Helen Mary \"Ellie\"', 'Berriman, Mr. William John', 'Troupiansky, Mr. Moses Aaron', 'Ivanoff, Mr. Kanio', 'Nankoff, Mr. Minko']\n"
     ]
    }
   ],
   "source": [
    "from scipy.spatial.distance import cdist\n",
    "import numpy as np\n",
    "\n",
    "def N_most_similar(df, N):\n",
    "    \n",
    "    similarIndices = [] #To store indices of similar pairs\n",
    "    similarPairs=[]\n",
    "    dist_matrix = cdist(df, df, 'euclid') #To calculate distance matrix\n",
    "    dist_matrix[np.isnan(dist_matrix)] = 0\n",
    "    np.fill_diagonal(dist_matrix,np.amax(dist_matrix) ) #To fill diagonal values with max value\n",
    "    \n",
    "    while(len(similarIndices) < 2 * N):\n",
    "        ind = np.unravel_index(np.argmin(dist_matrix, axis=None), dist_matrix.shape) #Find min distance\n",
    "        \n",
    "        if ind not in similarIndices and ind[::-1] not in similarIndices:\n",
    "            similarIndices.append(ind)\n",
    "            similarIndices.append(ind[::-1]) \n",
    "            similarPairs.append(Names[ind[0]])\n",
    "            similarPairs.append(Names[ind[1]])\n",
    "            \n",
    "        dist_matrix[ind] = np.amax(dist_matrix) #Set min distance to max so as not to take into account again\n",
    "        \n",
    "    return similarPairs\n",
    "\n",
    "print(\"The 3 most similar passengers are: \" + str(N_most_similar(df, 3)))"
   ]
  },
  {
   "cell_type": "markdown",
   "metadata": {},
   "source": [
    "## Exercise 2 \n",
    "\n",
    "Another way to get data is by using APIs. Here we will be using the google books API (https://developers.google.com/books/docs/overview)\n",
    "\n",
    "a) Create a list with these topic strings: Python; Data Science; Data Analysis; Machine Learning; and Deep \n",
    "Learning. Use these topics, one at a time, to query the Google Books API by modifying the code below. "
   ]
  },
  {
   "cell_type": "code",
   "execution_count": 80,
   "metadata": {
    "ExecuteTime": {
     "end_time": "2022-02-08T02:17:03.374930Z",
     "start_time": "2022-02-08T02:17:00.588236Z"
    }
   },
   "outputs": [],
   "source": [
    "import requests\n",
    "import json\n",
    "\n",
    "\"\"\"\n",
    "    Google Books Api\n",
    "    See: https://developers.google.com/books/\n",
    "\"\"\"\n",
    "\n",
    "def get(topic=\"\"):\n",
    "    BASEURL = 'https://www.googleapis.com/books/v1/volumes'\n",
    "    headers = {'Content-Type': 'application/json'}\n",
    "\n",
    "    response = requests.get(BASEURL + \"?q=\" + topic, headers=headers)\n",
    "\n",
    "    if response.status_code == 200:\n",
    "        return json.loads(response.content.decode('utf-8'))\n",
    "\n",
    "    return response\n",
    "\n",
    "list = [\"Python\", \"Data Science\", \"Data Analysis\",\"Machine Learning\", \"Deep Learning\"] #List of Topics\n",
    "\n",
    "python = get(list[0])\n",
    "data_science = get(list[1])\n",
    "data_analysis = get(list[2])\n",
    "machine_learning = get(list[3])\n",
    "deep_learning = get(list[4])"
   ]
  },
  {
   "cell_type": "markdown",
   "metadata": {},
   "source": [
    "b) For each returned JSON string: Convert the JSON string to a dict using `loads( )` then use this to convert it to a DataFrame: `pd.json_normalize( thedict['items'] )`. Then save them as `.csv`. "
   ]
  },
  {
   "cell_type": "code",
   "execution_count": 81,
   "metadata": {
    "ExecuteTime": {
     "end_time": "2022-02-08T02:17:03.530860Z",
     "start_time": "2022-02-08T02:17:03.381071Z"
    }
   },
   "outputs": [],
   "source": [
    "from pandas.io.json import json_normalize\n",
    "\n",
    "def normalize(df):\n",
    "    return json_normalize(df['items'])\n",
    "\n",
    "#To convert to dataframes\n",
    "python = normalize(python)\n",
    "data_science = normalize(data_science)\n",
    "data_analysis = normalize(data_analysis)\n",
    "machine_learning = normalize(machine_learning)\n",
    "deep_learning = normalize(deep_learning)\n",
    "\n",
    "#To save the dataframes\n",
    "python.to_csv('python.csv')\n",
    "data_science.to_csv('dataScience.csv')\n",
    "data_analysis.to_csv('dataAnalysis.csv')\n",
    "machine_learning.to_csv('machineLearning.csv')\n",
    "deep_learning.to_csv('deepLearning.csv')"
   ]
  },
  {
   "cell_type": "markdown",
   "metadata": {},
   "source": [
    "c) For each DataFrame, relabel `volumeInfo.title` as `Title` and `volumeInfo.authors` as `Authors`. "
   ]
  },
  {
   "cell_type": "code",
   "execution_count": 82,
   "metadata": {
    "ExecuteTime": {
     "end_time": "2022-02-08T02:17:03.562805Z",
     "start_time": "2022-02-08T02:17:03.536842Z"
    }
   },
   "outputs": [],
   "source": [
    "python.rename(columns={'volumeInfo.title': 'Title', 'volumeInfo.authors': 'Authors'}, inplace=True)\n",
    "data_science.rename(columns={'volumeInfo.title': 'Title', 'volumeInfo.authors': 'Authors'}, inplace=True)\n",
    "data_analysis.rename(columns={'volumeInfo.title': 'Title', 'volumeInfo.authors': 'Authors'}, inplace=True)\n",
    "machine_learning.rename(columns={'volumeInfo.title': 'Title', 'volumeInfo.authors': 'Authors'}, inplace=True)\n",
    "deep_learning.rename(columns={'volumeInfo.title': 'Title', 'volumeInfo.authors': 'Authors'}, inplace=True)"
   ]
  },
  {
   "cell_type": "markdown",
   "metadata": {},
   "source": [
    "d) For each DataFrame create a new column called `Topic` with the name of the topic from the API query above. Then merge all DataFrames into one and save it to a new `.csv` file. "
   ]
  },
  {
   "cell_type": "code",
   "execution_count": 83,
   "metadata": {
    "ExecuteTime": {
     "end_time": "2022-02-08T02:17:03.672018Z",
     "start_time": "2022-02-08T02:17:03.569387Z"
    }
   },
   "outputs": [],
   "source": [
    "python['Topic'] = \"Python\"\n",
    "data_science['Topic'] = \"Data Science\"\n",
    "data_analysis['Topic'] = \"Data Analysis\"\n",
    "machine_learning['Topic'] = \"Machine Learning\"\n",
    "deep_learning['Topic'] = \"Deep Learning\"\n",
    "\n",
    "#To concat all the dataframes together\n",
    "merged = pd.concat([python, data_science, data_analysis, machine_learning, deep_learning], axis=0, sort = True, ignore_index = True)\n",
    "merged.to_csv(\"merged.csv\")"
   ]
  },
  {
   "cell_type": "markdown",
   "metadata": {},
   "source": [
    "e) Write a function that returns all rows whose `Title` contains the word `Data` (case incensitive). "
   ]
  },
  {
   "cell_type": "code",
   "execution_count": 84,
   "metadata": {
    "ExecuteTime": {
     "end_time": "2022-02-08T02:17:04.454753Z",
     "start_time": "2022-02-08T02:17:04.388353Z"
    }
   },
   "outputs": [
    {
     "data": {
      "text/html": [
       "<div>\n",
       "<style scoped>\n",
       "    .dataframe tbody tr th:only-of-type {\n",
       "        vertical-align: middle;\n",
       "    }\n",
       "\n",
       "    .dataframe tbody tr th {\n",
       "        vertical-align: top;\n",
       "    }\n",
       "\n",
       "    .dataframe thead th {\n",
       "        text-align: right;\n",
       "    }\n",
       "</style>\n",
       "<table border=\"1\" class=\"dataframe\">\n",
       "  <thead>\n",
       "    <tr style=\"text-align: right;\">\n",
       "      <th></th>\n",
       "      <th>Authors</th>\n",
       "      <th>Title</th>\n",
       "      <th>Topic</th>\n",
       "      <th>accessInfo.accessViewStatus</th>\n",
       "      <th>accessInfo.country</th>\n",
       "      <th>accessInfo.embeddable</th>\n",
       "      <th>accessInfo.epub.acsTokenLink</th>\n",
       "      <th>accessInfo.epub.isAvailable</th>\n",
       "      <th>accessInfo.pdf.acsTokenLink</th>\n",
       "      <th>accessInfo.pdf.isAvailable</th>\n",
       "      <th>...</th>\n",
       "      <th>volumeInfo.panelizationSummary.containsEpubBubbles</th>\n",
       "      <th>volumeInfo.panelizationSummary.containsImageBubbles</th>\n",
       "      <th>volumeInfo.previewLink</th>\n",
       "      <th>volumeInfo.printType</th>\n",
       "      <th>volumeInfo.publishedDate</th>\n",
       "      <th>volumeInfo.publisher</th>\n",
       "      <th>volumeInfo.ratingsCount</th>\n",
       "      <th>volumeInfo.readingModes.image</th>\n",
       "      <th>volumeInfo.readingModes.text</th>\n",
       "      <th>volumeInfo.subtitle</th>\n",
       "    </tr>\n",
       "  </thead>\n",
       "  <tbody>\n",
       "    <tr>\n",
       "      <td>10</td>\n",
       "      <td>[Hadley Wickham, Garrett Grolemund]</td>\n",
       "      <td>R for Data Science</td>\n",
       "      <td>Data Science</td>\n",
       "      <td>SAMPLE</td>\n",
       "      <td>US</td>\n",
       "      <td>True</td>\n",
       "      <td>NaN</td>\n",
       "      <td>False</td>\n",
       "      <td>NaN</td>\n",
       "      <td>False</td>\n",
       "      <td>...</td>\n",
       "      <td>False</td>\n",
       "      <td>False</td>\n",
       "      <td>http://books.google.com/books?id=vfi3DQAAQBAJ&amp;...</td>\n",
       "      <td>BOOK</td>\n",
       "      <td>2016-12-12</td>\n",
       "      <td>\"O'Reilly Media, Inc.\"</td>\n",
       "      <td>3.0</td>\n",
       "      <td>True</td>\n",
       "      <td>False</td>\n",
       "      <td>Import, Tidy, Transform, Visualize, and Model ...</td>\n",
       "    </tr>\n",
       "    <tr>\n",
       "      <td>11</td>\n",
       "      <td>[John D. Kelleher, Brendan Tierney]</td>\n",
       "      <td>Data Science</td>\n",
       "      <td>Data Science</td>\n",
       "      <td>SAMPLE</td>\n",
       "      <td>US</td>\n",
       "      <td>True</td>\n",
       "      <td>NaN</td>\n",
       "      <td>False</td>\n",
       "      <td>NaN</td>\n",
       "      <td>False</td>\n",
       "      <td>...</td>\n",
       "      <td>False</td>\n",
       "      <td>False</td>\n",
       "      <td>http://books.google.com/books?id=TFpVDwAAQBAJ&amp;...</td>\n",
       "      <td>BOOK</td>\n",
       "      <td>2018-04-13</td>\n",
       "      <td>MIT Press</td>\n",
       "      <td>1.0</td>\n",
       "      <td>True</td>\n",
       "      <td>False</td>\n",
       "      <td>NaN</td>\n",
       "    </tr>\n",
       "    <tr>\n",
       "      <td>12</td>\n",
       "      <td>[Rafael A. Irizarry]</td>\n",
       "      <td>Introduction to Data Science</td>\n",
       "      <td>Data Science</td>\n",
       "      <td>SAMPLE</td>\n",
       "      <td>US</td>\n",
       "      <td>True</td>\n",
       "      <td>http://books.google.com/books/download/Introdu...</td>\n",
       "      <td>True</td>\n",
       "      <td>http://books.google.com/books/download/Introdu...</td>\n",
       "      <td>True</td>\n",
       "      <td>...</td>\n",
       "      <td>False</td>\n",
       "      <td>False</td>\n",
       "      <td>http://books.google.com/books?id=xb29DwAAQBAJ&amp;...</td>\n",
       "      <td>BOOK</td>\n",
       "      <td>2019-11-20</td>\n",
       "      <td>CRC Press</td>\n",
       "      <td>NaN</td>\n",
       "      <td>True</td>\n",
       "      <td>True</td>\n",
       "      <td>Data Analysis and Prediction Algorithms with R</td>\n",
       "    </tr>\n",
       "    <tr>\n",
       "      <td>13</td>\n",
       "      <td>[Jake VanderPlas]</td>\n",
       "      <td>Python Data Science Handbook</td>\n",
       "      <td>Data Science</td>\n",
       "      <td>SAMPLE</td>\n",
       "      <td>US</td>\n",
       "      <td>True</td>\n",
       "      <td>NaN</td>\n",
       "      <td>True</td>\n",
       "      <td>NaN</td>\n",
       "      <td>True</td>\n",
       "      <td>...</td>\n",
       "      <td>False</td>\n",
       "      <td>False</td>\n",
       "      <td>http://books.google.com/books?id=6omNDQAAQBAJ&amp;...</td>\n",
       "      <td>BOOK</td>\n",
       "      <td>2016-11-21</td>\n",
       "      <td>\"O'Reilly Media, Inc.\"</td>\n",
       "      <td>1.0</td>\n",
       "      <td>True</td>\n",
       "      <td>True</td>\n",
       "      <td>Essential Tools for Working with Data</td>\n",
       "    </tr>\n",
       "    <tr>\n",
       "      <td>14</td>\n",
       "      <td>[Joel Grus]</td>\n",
       "      <td>Data Science from Scratch</td>\n",
       "      <td>Data Science</td>\n",
       "      <td>SAMPLE</td>\n",
       "      <td>US</td>\n",
       "      <td>True</td>\n",
       "      <td>NaN</td>\n",
       "      <td>False</td>\n",
       "      <td>NaN</td>\n",
       "      <td>False</td>\n",
       "      <td>...</td>\n",
       "      <td>False</td>\n",
       "      <td>False</td>\n",
       "      <td>http://books.google.com/books?id=JYodCAAAQBAJ&amp;...</td>\n",
       "      <td>BOOK</td>\n",
       "      <td>2015-04-14</td>\n",
       "      <td>\"O'Reilly Media, Inc.\"</td>\n",
       "      <td>4.0</td>\n",
       "      <td>True</td>\n",
       "      <td>False</td>\n",
       "      <td>First Principles with Python</td>\n",
       "    </tr>\n",
       "  </tbody>\n",
       "</table>\n",
       "<p>5 rows × 52 columns</p>\n",
       "</div>"
      ],
      "text/plain": [
       "                                Authors                         Title  \\\n",
       "10  [Hadley Wickham, Garrett Grolemund]            R for Data Science   \n",
       "11  [John D. Kelleher, Brendan Tierney]                  Data Science   \n",
       "12                 [Rafael A. Irizarry]  Introduction to Data Science   \n",
       "13                    [Jake VanderPlas]  Python Data Science Handbook   \n",
       "14                          [Joel Grus]     Data Science from Scratch   \n",
       "\n",
       "           Topic accessInfo.accessViewStatus accessInfo.country  \\\n",
       "10  Data Science                      SAMPLE                 US   \n",
       "11  Data Science                      SAMPLE                 US   \n",
       "12  Data Science                      SAMPLE                 US   \n",
       "13  Data Science                      SAMPLE                 US   \n",
       "14  Data Science                      SAMPLE                 US   \n",
       "\n",
       "    accessInfo.embeddable                       accessInfo.epub.acsTokenLink  \\\n",
       "10                   True                                                NaN   \n",
       "11                   True                                                NaN   \n",
       "12                   True  http://books.google.com/books/download/Introdu...   \n",
       "13                   True                                                NaN   \n",
       "14                   True                                                NaN   \n",
       "\n",
       "    accessInfo.epub.isAvailable  \\\n",
       "10                        False   \n",
       "11                        False   \n",
       "12                         True   \n",
       "13                         True   \n",
       "14                        False   \n",
       "\n",
       "                          accessInfo.pdf.acsTokenLink  \\\n",
       "10                                                NaN   \n",
       "11                                                NaN   \n",
       "12  http://books.google.com/books/download/Introdu...   \n",
       "13                                                NaN   \n",
       "14                                                NaN   \n",
       "\n",
       "    accessInfo.pdf.isAvailable  ...  \\\n",
       "10                       False  ...   \n",
       "11                       False  ...   \n",
       "12                        True  ...   \n",
       "13                        True  ...   \n",
       "14                       False  ...   \n",
       "\n",
       "    volumeInfo.panelizationSummary.containsEpubBubbles  \\\n",
       "10                                              False    \n",
       "11                                              False    \n",
       "12                                              False    \n",
       "13                                              False    \n",
       "14                                              False    \n",
       "\n",
       "    volumeInfo.panelizationSummary.containsImageBubbles  \\\n",
       "10                                              False     \n",
       "11                                              False     \n",
       "12                                              False     \n",
       "13                                              False     \n",
       "14                                              False     \n",
       "\n",
       "                               volumeInfo.previewLink volumeInfo.printType  \\\n",
       "10  http://books.google.com/books?id=vfi3DQAAQBAJ&...                 BOOK   \n",
       "11  http://books.google.com/books?id=TFpVDwAAQBAJ&...                 BOOK   \n",
       "12  http://books.google.com/books?id=xb29DwAAQBAJ&...                 BOOK   \n",
       "13  http://books.google.com/books?id=6omNDQAAQBAJ&...                 BOOK   \n",
       "14  http://books.google.com/books?id=JYodCAAAQBAJ&...                 BOOK   \n",
       "\n",
       "   volumeInfo.publishedDate    volumeInfo.publisher volumeInfo.ratingsCount  \\\n",
       "10               2016-12-12  \"O'Reilly Media, Inc.\"                     3.0   \n",
       "11               2018-04-13               MIT Press                     1.0   \n",
       "12               2019-11-20               CRC Press                     NaN   \n",
       "13               2016-11-21  \"O'Reilly Media, Inc.\"                     1.0   \n",
       "14               2015-04-14  \"O'Reilly Media, Inc.\"                     4.0   \n",
       "\n",
       "   volumeInfo.readingModes.image volumeInfo.readingModes.text  \\\n",
       "10                          True                        False   \n",
       "11                          True                        False   \n",
       "12                          True                         True   \n",
       "13                          True                         True   \n",
       "14                          True                        False   \n",
       "\n",
       "                                  volumeInfo.subtitle  \n",
       "10  Import, Tidy, Transform, Visualize, and Model ...  \n",
       "11                                                NaN  \n",
       "12     Data Analysis and Prediction Algorithms with R  \n",
       "13              Essential Tools for Working with Data  \n",
       "14                       First Principles with Python  \n",
       "\n",
       "[5 rows x 52 columns]"
      ]
     },
     "execution_count": 84,
     "metadata": {},
     "output_type": "execute_result"
    }
   ],
   "source": [
    "def dataInTitle(df):\n",
    "    return df[df.Title.str.contains('Data', case = False)] #Returns all rows with 'Data' in title\n",
    "\n",
    "df = dataInTitle(merged)\n",
    "df.head()"
   ]
  },
  {
   "cell_type": "markdown",
   "metadata": {},
   "source": [
    "f) Write a function that returns all rows whose `Authors` first or last name starts with the letter `E` "
   ]
  },
  {
   "cell_type": "code",
   "execution_count": 85,
   "metadata": {
    "ExecuteTime": {
     "end_time": "2022-02-08T02:17:08.472478Z",
     "start_time": "2022-02-08T02:17:08.390076Z"
    }
   },
   "outputs": [
    {
     "data": {
      "text/html": [
       "<div>\n",
       "<style scoped>\n",
       "    .dataframe tbody tr th:only-of-type {\n",
       "        vertical-align: middle;\n",
       "    }\n",
       "\n",
       "    .dataframe tbody tr th {\n",
       "        vertical-align: top;\n",
       "    }\n",
       "\n",
       "    .dataframe thead th {\n",
       "        text-align: right;\n",
       "    }\n",
       "</style>\n",
       "<table border=\"1\" class=\"dataframe\">\n",
       "  <thead>\n",
       "    <tr style=\"text-align: right;\">\n",
       "      <th></th>\n",
       "      <th>Authors</th>\n",
       "      <th>Title</th>\n",
       "      <th>Topic</th>\n",
       "      <th>accessInfo.accessViewStatus</th>\n",
       "      <th>accessInfo.country</th>\n",
       "      <th>accessInfo.embeddable</th>\n",
       "      <th>accessInfo.epub.acsTokenLink</th>\n",
       "      <th>accessInfo.epub.isAvailable</th>\n",
       "      <th>accessInfo.pdf.acsTokenLink</th>\n",
       "      <th>accessInfo.pdf.isAvailable</th>\n",
       "      <th>...</th>\n",
       "      <th>volumeInfo.panelizationSummary.containsEpubBubbles</th>\n",
       "      <th>volumeInfo.panelizationSummary.containsImageBubbles</th>\n",
       "      <th>volumeInfo.previewLink</th>\n",
       "      <th>volumeInfo.printType</th>\n",
       "      <th>volumeInfo.publishedDate</th>\n",
       "      <th>volumeInfo.publisher</th>\n",
       "      <th>volumeInfo.ratingsCount</th>\n",
       "      <th>volumeInfo.readingModes.image</th>\n",
       "      <th>volumeInfo.readingModes.text</th>\n",
       "      <th>volumeInfo.subtitle</th>\n",
       "    </tr>\n",
       "  </thead>\n",
       "  <tbody>\n",
       "    <tr>\n",
       "      <td>16</td>\n",
       "      <td>Ryan A. Estrellado,Emily A. Freer,Jesse Mostip...</td>\n",
       "      <td>Data Science in Education Using R</td>\n",
       "      <td>Data Science</td>\n",
       "      <td>SAMPLE</td>\n",
       "      <td>US</td>\n",
       "      <td>True</td>\n",
       "      <td>http://books.google.com/books/download/Data_Sc...</td>\n",
       "      <td>True</td>\n",
       "      <td>http://books.google.com/books/download/Data_Sc...</td>\n",
       "      <td>True</td>\n",
       "      <td>...</td>\n",
       "      <td>False</td>\n",
       "      <td>False</td>\n",
       "      <td>http://books.google.com/books?id=UG76DwAAQBAJ&amp;...</td>\n",
       "      <td>BOOK</td>\n",
       "      <td>2020-10-26</td>\n",
       "      <td>Routledge</td>\n",
       "      <td>NaN</td>\n",
       "      <td>True</td>\n",
       "      <td>True</td>\n",
       "      <td>NaN</td>\n",
       "    </tr>\n",
       "    <tr>\n",
       "      <td>33</td>\n",
       "      <td>Ethem Alpaydin</td>\n",
       "      <td>Introduction to Machine Learning</td>\n",
       "      <td>Machine Learning</td>\n",
       "      <td>SAMPLE</td>\n",
       "      <td>US</td>\n",
       "      <td>True</td>\n",
       "      <td>NaN</td>\n",
       "      <td>False</td>\n",
       "      <td>NaN</td>\n",
       "      <td>False</td>\n",
       "      <td>...</td>\n",
       "      <td>NaN</td>\n",
       "      <td>NaN</td>\n",
       "      <td>http://books.google.com/books?id=NP5bBAAAQBAJ&amp;...</td>\n",
       "      <td>BOOK</td>\n",
       "      <td>2014-08-29</td>\n",
       "      <td>MIT Press</td>\n",
       "      <td>2.0</td>\n",
       "      <td>True</td>\n",
       "      <td>False</td>\n",
       "      <td>NaN</td>\n",
       "    </tr>\n",
       "    <tr>\n",
       "      <td>34</td>\n",
       "      <td>Ethem Alpaydin</td>\n",
       "      <td>Machine Learning</td>\n",
       "      <td>Machine Learning</td>\n",
       "      <td>SAMPLE</td>\n",
       "      <td>US</td>\n",
       "      <td>True</td>\n",
       "      <td>NaN</td>\n",
       "      <td>False</td>\n",
       "      <td>NaN</td>\n",
       "      <td>False</td>\n",
       "      <td>...</td>\n",
       "      <td>False</td>\n",
       "      <td>False</td>\n",
       "      <td>http://books.google.com/books?id=AGQ4DQAAQBAJ&amp;...</td>\n",
       "      <td>BOOK</td>\n",
       "      <td>2016-10-07</td>\n",
       "      <td>MIT Press</td>\n",
       "      <td>1.0</td>\n",
       "      <td>True</td>\n",
       "      <td>False</td>\n",
       "      <td>The New AI</td>\n",
       "    </tr>\n",
       "    <tr>\n",
       "      <td>46</td>\n",
       "      <td>Eugene Charniak</td>\n",
       "      <td>Introduction to Deep Learning</td>\n",
       "      <td>Deep Learning</td>\n",
       "      <td>SAMPLE</td>\n",
       "      <td>US</td>\n",
       "      <td>True</td>\n",
       "      <td>NaN</td>\n",
       "      <td>False</td>\n",
       "      <td>NaN</td>\n",
       "      <td>False</td>\n",
       "      <td>...</td>\n",
       "      <td>False</td>\n",
       "      <td>False</td>\n",
       "      <td>http://books.google.com/books?id=LrT4DwAAQBAJ&amp;...</td>\n",
       "      <td>BOOK</td>\n",
       "      <td>2019-01-29</td>\n",
       "      <td>MIT Press</td>\n",
       "      <td>1.0</td>\n",
       "      <td>True</td>\n",
       "      <td>False</td>\n",
       "      <td>NaN</td>\n",
       "    </tr>\n",
       "  </tbody>\n",
       "</table>\n",
       "<p>4 rows × 52 columns</p>\n",
       "</div>"
      ],
      "text/plain": [
       "                                              Authors  \\\n",
       "16  Ryan A. Estrellado,Emily A. Freer,Jesse Mostip...   \n",
       "33                                     Ethem Alpaydin   \n",
       "34                                     Ethem Alpaydin   \n",
       "46                                    Eugene Charniak   \n",
       "\n",
       "                                Title             Topic  \\\n",
       "16  Data Science in Education Using R      Data Science   \n",
       "33   Introduction to Machine Learning  Machine Learning   \n",
       "34                   Machine Learning  Machine Learning   \n",
       "46      Introduction to Deep Learning     Deep Learning   \n",
       "\n",
       "   accessInfo.accessViewStatus accessInfo.country  accessInfo.embeddable  \\\n",
       "16                      SAMPLE                 US                   True   \n",
       "33                      SAMPLE                 US                   True   \n",
       "34                      SAMPLE                 US                   True   \n",
       "46                      SAMPLE                 US                   True   \n",
       "\n",
       "                         accessInfo.epub.acsTokenLink  \\\n",
       "16  http://books.google.com/books/download/Data_Sc...   \n",
       "33                                                NaN   \n",
       "34                                                NaN   \n",
       "46                                                NaN   \n",
       "\n",
       "    accessInfo.epub.isAvailable  \\\n",
       "16                         True   \n",
       "33                        False   \n",
       "34                        False   \n",
       "46                        False   \n",
       "\n",
       "                          accessInfo.pdf.acsTokenLink  \\\n",
       "16  http://books.google.com/books/download/Data_Sc...   \n",
       "33                                                NaN   \n",
       "34                                                NaN   \n",
       "46                                                NaN   \n",
       "\n",
       "    accessInfo.pdf.isAvailable  ...  \\\n",
       "16                        True  ...   \n",
       "33                       False  ...   \n",
       "34                       False  ...   \n",
       "46                       False  ...   \n",
       "\n",
       "    volumeInfo.panelizationSummary.containsEpubBubbles  \\\n",
       "16                                              False    \n",
       "33                                                NaN    \n",
       "34                                              False    \n",
       "46                                              False    \n",
       "\n",
       "    volumeInfo.panelizationSummary.containsImageBubbles  \\\n",
       "16                                              False     \n",
       "33                                                NaN     \n",
       "34                                              False     \n",
       "46                                              False     \n",
       "\n",
       "                               volumeInfo.previewLink volumeInfo.printType  \\\n",
       "16  http://books.google.com/books?id=UG76DwAAQBAJ&...                 BOOK   \n",
       "33  http://books.google.com/books?id=NP5bBAAAQBAJ&...                 BOOK   \n",
       "34  http://books.google.com/books?id=AGQ4DQAAQBAJ&...                 BOOK   \n",
       "46  http://books.google.com/books?id=LrT4DwAAQBAJ&...                 BOOK   \n",
       "\n",
       "   volumeInfo.publishedDate volumeInfo.publisher volumeInfo.ratingsCount  \\\n",
       "16               2020-10-26            Routledge                     NaN   \n",
       "33               2014-08-29            MIT Press                     2.0   \n",
       "34               2016-10-07            MIT Press                     1.0   \n",
       "46               2019-01-29            MIT Press                     1.0   \n",
       "\n",
       "   volumeInfo.readingModes.image volumeInfo.readingModes.text  \\\n",
       "16                          True                         True   \n",
       "33                          True                        False   \n",
       "34                          True                        False   \n",
       "46                          True                        False   \n",
       "\n",
       "   volumeInfo.subtitle  \n",
       "16                 NaN  \n",
       "33                 NaN  \n",
       "34          The New AI  \n",
       "46                 NaN  \n",
       "\n",
       "[4 rows x 52 columns]"
      ]
     },
     "execution_count": 85,
     "metadata": {},
     "output_type": "execute_result"
    }
   ],
   "source": [
    "def func(df):\n",
    "    df['Authors'] = (df['Authors'] .transform(lambda x: \",\".join(map(str,x)))) #Converts list of authors to string\n",
    "    return df[df['Authors'].astype(str).str.contains('\\\\b'+ \"E\" +'[^\\.]\\w+',regex=True) == True] #Finds authors with 'E' in their first or last names\n",
    "  \n",
    "df = func(merged)\n",
    "df.head()"
   ]
  }
 ],
 "metadata": {
  "interpreter": {
   "hash": "b0fa6594d8f4cbf19f97940f81e996739fb7646882a419484c72d19e05852a7e"
  },
  "kernelspec": {
   "display_name": "Python 3 (ipykernel)",
   "language": "python",
   "name": "python3"
  },
  "language_info": {
   "codemirror_mode": {
    "name": "ipython",
    "version": 3
   },
   "file_extension": ".py",
   "mimetype": "text/x-python",
   "name": "python",
   "nbconvert_exporter": "python",
   "pygments_lexer": "ipython3",
   "version": "3.7.4"
  }
 },
 "nbformat": 4,
 "nbformat_minor": 2
}
